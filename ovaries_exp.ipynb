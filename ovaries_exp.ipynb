{
 "cells": [
  {
   "cell_type": "markdown",
   "id": "9c13aebc",
   "metadata": {},
   "source": [
    "# Installing packages"
   ]
  },
  {
   "cell_type": "code",
   "execution_count": 1,
   "id": "c2fd91ac-91d1-44a9-a9fb-5e14848246fa",
   "metadata": {},
   "outputs": [
    {
     "name": "stdout",
     "output_type": "stream",
     "text": [
      "Requirement already satisfied: nbconvert[webpdf] in c:\\users\\waner\\miniconda3\\lib\\site-packages (7.9.2)\n",
      "Requirement already satisfied: beautifulsoup4 in c:\\users\\waner\\miniconda3\\lib\\site-packages (from nbconvert[webpdf]) (4.12.2)\n",
      "Requirement already satisfied: defusedxml in c:\\users\\waner\\miniconda3\\lib\\site-packages (from nbconvert[webpdf]) (0.7.1)\n",
      "Requirement already satisfied: nbclient>=0.5.0 in c:\\users\\waner\\miniconda3\\lib\\site-packages (from nbconvert[webpdf]) (0.8.0)\n",
      "Requirement already satisfied: bleach!=5.0.0 in c:\\users\\waner\\miniconda3\\lib\\site-packages (from nbconvert[webpdf]) (6.1.0)\n",
      "Requirement already satisfied: markupsafe>=2.0 in c:\\users\\waner\\miniconda3\\lib\\site-packages (from nbconvert[webpdf]) (2.1.2)\n",
      "Requirement already satisfied: pygments>=2.4.1 in c:\\users\\waner\\miniconda3\\lib\\site-packages (from nbconvert[webpdf]) (2.16.1)\n",
      "Requirement already satisfied: pandocfilters>=1.4.1 in c:\\users\\waner\\miniconda3\\lib\\site-packages (from nbconvert[webpdf]) (1.5.0)\n",
      "Requirement already satisfied: packaging in c:\\users\\waner\\miniconda3\\lib\\site-packages (from nbconvert[webpdf]) (23.0)\n",
      "Requirement already satisfied: jinja2>=3.0 in c:\\users\\waner\\miniconda3\\lib\\site-packages (from nbconvert[webpdf]) (3.1.2)\n",
      "Requirement already satisfied: jupyter-core>=4.7 in c:\\users\\waner\\miniconda3\\lib\\site-packages (from nbconvert[webpdf]) (5.4.0)\n",
      "Requirement already satisfied: jupyterlab-pygments in c:\\users\\waner\\miniconda3\\lib\\site-packages (from nbconvert[webpdf]) (0.2.2)\n",
      "Requirement already satisfied: tinycss2 in c:\\users\\waner\\miniconda3\\lib\\site-packages (from nbconvert[webpdf]) (1.2.1)\n",
      "Requirement already satisfied: mistune<4,>=2.0.3 in c:\\users\\waner\\miniconda3\\lib\\site-packages (from nbconvert[webpdf]) (3.0.2)\n",
      "Requirement already satisfied: nbformat>=5.7 in c:\\users\\waner\\miniconda3\\lib\\site-packages (from nbconvert[webpdf]) (5.9.2)\n",
      "Requirement already satisfied: traitlets>=5.1 in c:\\users\\waner\\miniconda3\\lib\\site-packages (from nbconvert[webpdf]) (5.11.2)\n",
      "Requirement already satisfied: playwright in c:\\users\\waner\\miniconda3\\lib\\site-packages (from nbconvert[webpdf]) (1.39.0)\n",
      "Requirement already satisfied: webencodings in c:\\users\\waner\\miniconda3\\lib\\site-packages (from bleach!=5.0.0->nbconvert[webpdf]) (0.5.1)\n",
      "Requirement already satisfied: six>=1.9.0 in c:\\users\\waner\\miniconda3\\lib\\site-packages (from bleach!=5.0.0->nbconvert[webpdf]) (1.16.0)\n",
      "Requirement already satisfied: platformdirs>=2.5 in c:\\users\\waner\\miniconda3\\lib\\site-packages (from jupyter-core>=4.7->nbconvert[webpdf]) (3.11.0)\n",
      "Requirement already satisfied: pywin32>=300 in c:\\users\\waner\\miniconda3\\lib\\site-packages (from jupyter-core>=4.7->nbconvert[webpdf]) (306)\n",
      "Requirement already satisfied: jupyter-client>=6.1.12 in c:\\users\\waner\\miniconda3\\lib\\site-packages (from nbclient>=0.5.0->nbconvert[webpdf]) (8.4.0)\n",
      "Requirement already satisfied: fastjsonschema in c:\\users\\waner\\miniconda3\\lib\\site-packages (from nbformat>=5.7->nbconvert[webpdf]) (2.18.1)\n",
      "Requirement already satisfied: jsonschema>=2.6 in c:\\users\\waner\\miniconda3\\lib\\site-packages (from nbformat>=5.7->nbconvert[webpdf]) (4.19.1)\n",
      "Requirement already satisfied: soupsieve>1.2 in c:\\users\\waner\\miniconda3\\lib\\site-packages (from beautifulsoup4->nbconvert[webpdf]) (2.5)\n",
      "Requirement already satisfied: pyee==11.0.1 in c:\\users\\waner\\miniconda3\\lib\\site-packages (from playwright->nbconvert[webpdf]) (11.0.1)\n",
      "Requirement already satisfied: greenlet==3.0.0 in c:\\users\\waner\\miniconda3\\lib\\site-packages (from playwright->nbconvert[webpdf]) (3.0.0)\n",
      "Requirement already satisfied: typing-extensions in c:\\users\\waner\\miniconda3\\lib\\site-packages (from pyee==11.0.1->playwright->nbconvert[webpdf]) (4.4.0)\n",
      "Requirement already satisfied: attrs>=22.2.0 in c:\\users\\waner\\miniconda3\\lib\\site-packages (from jsonschema>=2.6->nbformat>=5.7->nbconvert[webpdf]) (23.1.0)\n",
      "Requirement already satisfied: jsonschema-specifications>=2023.03.6 in c:\\users\\waner\\miniconda3\\lib\\site-packages (from jsonschema>=2.6->nbformat>=5.7->nbconvert[webpdf]) (2023.7.1)\n",
      "Requirement already satisfied: referencing>=0.28.4 in c:\\users\\waner\\miniconda3\\lib\\site-packages (from jsonschema>=2.6->nbformat>=5.7->nbconvert[webpdf]) (0.30.2)\n",
      "Requirement already satisfied: rpds-py>=0.7.1 in c:\\users\\waner\\miniconda3\\lib\\site-packages (from jsonschema>=2.6->nbformat>=5.7->nbconvert[webpdf]) (0.10.6)\n",
      "Requirement already satisfied: python-dateutil>=2.8.2 in c:\\users\\waner\\miniconda3\\lib\\site-packages (from jupyter-client>=6.1.12->nbclient>=0.5.0->nbconvert[webpdf]) (2.8.2)\n",
      "Requirement already satisfied: tornado>=6.2 in c:\\users\\waner\\miniconda3\\lib\\site-packages (from jupyter-client>=6.1.12->nbclient>=0.5.0->nbconvert[webpdf]) (6.3.3)\n",
      "Requirement already satisfied: pyzmq>=23.0 in c:\\users\\waner\\miniconda3\\lib\\site-packages (from jupyter-client>=6.1.12->nbclient>=0.5.0->nbconvert[webpdf]) (25.1.1)\n",
      "Note: you may need to restart the kernel to use updated packages.\n"
     ]
    }
   ],
   "source": [
    "pip install nbconvert[webpdf]"
   ]
  },
  {
   "cell_type": "code",
   "execution_count": 2,
   "id": "bd4e6412",
   "metadata": {},
   "outputs": [
    {
     "name": "stdout",
     "output_type": "stream",
     "text": [
      "Requirement already satisfied: matplotlib in c:\\users\\waner\\miniconda3\\lib\\site-packages (3.8.0)\n",
      "Requirement already satisfied: pandas in c:\\users\\waner\\miniconda3\\lib\\site-packages (2.1.1)\n",
      "Requirement already satisfied: numpy in c:\\users\\waner\\miniconda3\\lib\\site-packages (1.24.1)\n",
      "Requirement already satisfied: sns in c:\\users\\waner\\miniconda3\\lib\\site-packages (0.1)\n",
      "Requirement already satisfied: scipy in c:\\users\\waner\\miniconda3\\lib\\site-packages (1.11.3)\n",
      "Requirement already satisfied: sklearn in c:\\users\\waner\\miniconda3\\lib\\site-packages (0.0.post10)\n",
      "Requirement already satisfied: nbconvert in c:\\users\\waner\\miniconda3\\lib\\site-packages (7.9.2)\n",
      "Requirement already satisfied: openpyxl in c:\\users\\waner\\miniconda3\\lib\\site-packages (3.1.2)\n",
      "Requirement already satisfied: termcolor in c:\\users\\waner\\miniconda3\\lib\\site-packages (2.3.0)\n",
      "Requirement already satisfied: fonttools>=4.22.0 in c:\\users\\waner\\miniconda3\\lib\\site-packages (from matplotlib) (4.43.1)\n",
      "Requirement already satisfied: contourpy>=1.0.1 in c:\\users\\waner\\miniconda3\\lib\\site-packages (from matplotlib) (1.1.1)\n",
      "Requirement already satisfied: pillow>=6.2.0 in c:\\users\\waner\\miniconda3\\lib\\site-packages (from matplotlib) (9.3.0)\n",
      "Requirement already satisfied: python-dateutil>=2.7 in c:\\users\\waner\\miniconda3\\lib\\site-packages (from matplotlib) (2.8.2)\n",
      "Requirement already satisfied: cycler>=0.10 in c:\\users\\waner\\miniconda3\\lib\\site-packages (from matplotlib) (0.12.1)\n",
      "Requirement already satisfied: kiwisolver>=1.0.1 in c:\\users\\waner\\miniconda3\\lib\\site-packages (from matplotlib) (1.4.5)\n",
      "Requirement already satisfied: packaging>=20.0 in c:\\users\\waner\\miniconda3\\lib\\site-packages (from matplotlib) (23.0)\n",
      "Requirement already satisfied: pyparsing>=2.3.1 in c:\\users\\waner\\miniconda3\\lib\\site-packages (from matplotlib) (3.1.1)\n",
      "Requirement already satisfied: pytz>=2020.1 in c:\\users\\waner\\miniconda3\\lib\\site-packages (from pandas) (2023.3.post1)\n",
      "Requirement already satisfied: tzdata>=2022.1 in c:\\users\\waner\\miniconda3\\lib\\site-packages (from pandas) (2023.3)\n",
      "Requirement already satisfied: jinja2>=3.0 in c:\\users\\waner\\miniconda3\\lib\\site-packages (from nbconvert) (3.1.2)\n",
      "Requirement already satisfied: pygments>=2.4.1 in c:\\users\\waner\\miniconda3\\lib\\site-packages (from nbconvert) (2.16.1)\n",
      "Requirement already satisfied: mistune<4,>=2.0.3 in c:\\users\\waner\\miniconda3\\lib\\site-packages (from nbconvert) (3.0.2)\n",
      "Requirement already satisfied: traitlets>=5.1 in c:\\users\\waner\\miniconda3\\lib\\site-packages (from nbconvert) (5.11.2)\n",
      "Requirement already satisfied: jupyter-core>=4.7 in c:\\users\\waner\\miniconda3\\lib\\site-packages (from nbconvert) (5.4.0)\n",
      "Requirement already satisfied: defusedxml in c:\\users\\waner\\miniconda3\\lib\\site-packages (from nbconvert) (0.7.1)\n",
      "Requirement already satisfied: beautifulsoup4 in c:\\users\\waner\\miniconda3\\lib\\site-packages (from nbconvert) (4.12.2)\n",
      "Requirement already satisfied: jupyterlab-pygments in c:\\users\\waner\\miniconda3\\lib\\site-packages (from nbconvert) (0.2.2)\n",
      "Requirement already satisfied: pandocfilters>=1.4.1 in c:\\users\\waner\\miniconda3\\lib\\site-packages (from nbconvert) (1.5.0)\n",
      "Requirement already satisfied: nbclient>=0.5.0 in c:\\users\\waner\\miniconda3\\lib\\site-packages (from nbconvert) (0.8.0)\n",
      "Requirement already satisfied: nbformat>=5.7 in c:\\users\\waner\\miniconda3\\lib\\site-packages (from nbconvert) (5.9.2)\n",
      "Requirement already satisfied: markupsafe>=2.0 in c:\\users\\waner\\miniconda3\\lib\\site-packages (from nbconvert) (2.1.2)\n",
      "Requirement already satisfied: bleach!=5.0.0 in c:\\users\\waner\\miniconda3\\lib\\site-packages (from nbconvert) (6.1.0)\n",
      "Requirement already satisfied: tinycss2 in c:\\users\\waner\\miniconda3\\lib\\site-packages (from nbconvert) (1.2.1)\n",
      "Requirement already satisfied: et-xmlfile in c:\\users\\waner\\miniconda3\\lib\\site-packages (from openpyxl) (1.1.0)\n",
      "Requirement already satisfied: webencodings in c:\\users\\waner\\miniconda3\\lib\\site-packages (from bleach!=5.0.0->nbconvert) (0.5.1)\n",
      "Requirement already satisfied: six>=1.9.0 in c:\\users\\waner\\miniconda3\\lib\\site-packages (from bleach!=5.0.0->nbconvert) (1.16.0)\n",
      "Requirement already satisfied: platformdirs>=2.5 in c:\\users\\waner\\miniconda3\\lib\\site-packages (from jupyter-core>=4.7->nbconvert) (3.11.0)\n",
      "Requirement already satisfied: pywin32>=300 in c:\\users\\waner\\miniconda3\\lib\\site-packages (from jupyter-core>=4.7->nbconvert) (306)\n",
      "Requirement already satisfied: jupyter-client>=6.1.12 in c:\\users\\waner\\miniconda3\\lib\\site-packages (from nbclient>=0.5.0->nbconvert) (8.4.0)\n",
      "Requirement already satisfied: fastjsonschema in c:\\users\\waner\\miniconda3\\lib\\site-packages (from nbformat>=5.7->nbconvert) (2.18.1)\n",
      "Requirement already satisfied: jsonschema>=2.6 in c:\\users\\waner\\miniconda3\\lib\\site-packages (from nbformat>=5.7->nbconvert) (4.19.1)\n",
      "Requirement already satisfied: soupsieve>1.2 in c:\\users\\waner\\miniconda3\\lib\\site-packages (from beautifulsoup4->nbconvert) (2.5)\n",
      "Requirement already satisfied: jsonschema-specifications>=2023.03.6 in c:\\users\\waner\\miniconda3\\lib\\site-packages (from jsonschema>=2.6->nbformat>=5.7->nbconvert) (2023.7.1)\n",
      "Requirement already satisfied: attrs>=22.2.0 in c:\\users\\waner\\miniconda3\\lib\\site-packages (from jsonschema>=2.6->nbformat>=5.7->nbconvert) (23.1.0)\n",
      "Requirement already satisfied: referencing>=0.28.4 in c:\\users\\waner\\miniconda3\\lib\\site-packages (from jsonschema>=2.6->nbformat>=5.7->nbconvert) (0.30.2)\n",
      "Requirement already satisfied: rpds-py>=0.7.1 in c:\\users\\waner\\miniconda3\\lib\\site-packages (from jsonschema>=2.6->nbformat>=5.7->nbconvert) (0.10.6)\n",
      "Requirement already satisfied: tornado>=6.2 in c:\\users\\waner\\miniconda3\\lib\\site-packages (from jupyter-client>=6.1.12->nbclient>=0.5.0->nbconvert) (6.3.3)\n",
      "Requirement already satisfied: pyzmq>=23.0 in c:\\users\\waner\\miniconda3\\lib\\site-packages (from jupyter-client>=6.1.12->nbclient>=0.5.0->nbconvert) (25.1.1)\n",
      "Note: you may need to restart the kernel to use updated packages.\n"
     ]
    }
   ],
   "source": [
    "pip install matplotlib pandas numpy sns scipy sklearn nbconvert openpyxl termcolor"
   ]
  },
  {
   "cell_type": "markdown",
   "id": "c005ebd7",
   "metadata": {},
   "source": [
    "# Importing Libraries"
   ]
  },
  {
   "cell_type": "code",
   "execution_count": 3,
   "id": "fc5e2828",
   "metadata": {},
   "outputs": [],
   "source": [
    "%matplotlib inline\n",
    "import pandas as pd\n",
    "import matplotlib.pyplot as plt\n",
    "import numpy as np\n",
    "from numpy.random import seed\n",
    "from numpy.random import randn\n",
    "import numpy as np\n",
    "from scipy import stats\n",
    "from math import sqrt\n",
    "from numpy.random import seed\n",
    "from numpy.random import randn\n",
    "from numpy import mean\n",
    "from scipy.stats import sem\n",
    "from scipy.stats import t\n",
    "from termcolor import colored"
   ]
  },
  {
   "cell_type": "code",
   "execution_count": 4,
   "id": "c80b46c3",
   "metadata": {},
   "outputs": [],
   "source": [
    "# function for calculating the t-test for two independent samples\n",
    "def independent_ttest(data1, data2, alpha):\n",
    " # calculate means\n",
    " mean1, mean2 = mean(data1), mean(data2)\n",
    " # calculate standard errors\n",
    " se1, se2 = sem(data1), sem(data2)\n",
    " # standard error on the difference between the samples\n",
    " sed = sqrt(se1**2.0 + se2**2.0)\n",
    " # calculate the t statistic\n",
    " t_stat = (mean1 - mean2) / sed\n",
    " # degrees of freedom\n",
    " df = len(data1) + len(data2) - 2\n",
    " # calculate the critical value\n",
    " cv = t.ppf(1.0 - alpha, df)\n",
    " # calculate the p-value\n",
    " p = (1.0 - t.cdf(abs(t_stat), df)) * 2.0\n",
    " # return everything\n",
    " return t_stat, df, cv, p"
   ]
  },
  {
   "cell_type": "markdown",
   "id": "a19018ac",
   "metadata": {},
   "source": [
    "## Toy Samples"
   ]
  },
  {
   "cell_type": "code",
   "execution_count": 5,
   "id": "555809b8",
   "metadata": {},
   "outputs": [],
   "source": [
    "mu2, sigma2 = 25, 5 # mean and standard deviation\n",
    "s2 = np.random.normal(mu2, sigma2, 5000)\n",
    "mu, sigma = 30, 5 # mean and standard deviation\n",
    "s = np.random.normal(mu, sigma, 5000)\n",
    "zz = [0,0,0,0,0,0,0,1,0,0,0,0,0,0,0,0,0,0,0,0]"
   ]
  },
  {
   "cell_type": "markdown",
   "id": "1152e873",
   "metadata": {},
   "source": [
    "# Population"
   ]
  },
  {
   "cell_type": "code",
   "execution_count": 6,
   "id": "c51c5160-a65b-4d90-84a2-723e64a0f730",
   "metadata": {},
   "outputs": [
    {
     "data": {
      "text/html": [
       "<div>\n",
       "<style scoped>\n",
       "    .dataframe tbody tr th:only-of-type {\n",
       "        vertical-align: middle;\n",
       "    }\n",
       "\n",
       "    .dataframe tbody tr th {\n",
       "        vertical-align: top;\n",
       "    }\n",
       "\n",
       "    .dataframe thead th {\n",
       "        text-align: right;\n",
       "    }\n",
       "</style>\n",
       "<table border=\"1\" class=\"dataframe\">\n",
       "  <thead>\n",
       "    <tr style=\"text-align: right;\">\n",
       "      <th></th>\n",
       "      <th>Amostra</th>\n",
       "      <th>RPL32</th>\n",
       "      <th>VGR</th>\n",
       "      <th>VG</th>\n",
       "      <th>Group</th>\n",
       "      <th>Day</th>\n",
       "    </tr>\n",
       "  </thead>\n",
       "  <tbody>\n",
       "    <tr>\n",
       "      <th>0</th>\n",
       "      <td>A1-1</td>\n",
       "      <td>19.178</td>\n",
       "      <td>26.597</td>\n",
       "      <td>28.589</td>\n",
       "      <td>A</td>\n",
       "      <td>1</td>\n",
       "    </tr>\n",
       "    <tr>\n",
       "      <th>1</th>\n",
       "      <td>A1-1</td>\n",
       "      <td>19.206</td>\n",
       "      <td>26.662</td>\n",
       "      <td>28.752</td>\n",
       "      <td>A</td>\n",
       "      <td>1</td>\n",
       "    </tr>\n",
       "    <tr>\n",
       "      <th>2</th>\n",
       "      <td>A1-2</td>\n",
       "      <td>18.391</td>\n",
       "      <td>28.084</td>\n",
       "      <td>30.028</td>\n",
       "      <td>A</td>\n",
       "      <td>1</td>\n",
       "    </tr>\n",
       "    <tr>\n",
       "      <th>3</th>\n",
       "      <td>A1-2</td>\n",
       "      <td>18.282</td>\n",
       "      <td>28.165</td>\n",
       "      <td>29.857</td>\n",
       "      <td>A</td>\n",
       "      <td>1</td>\n",
       "    </tr>\n",
       "    <tr>\n",
       "      <th>4</th>\n",
       "      <td>A1-3</td>\n",
       "      <td>18.034</td>\n",
       "      <td>25.990</td>\n",
       "      <td>28.405</td>\n",
       "      <td>A</td>\n",
       "      <td>1</td>\n",
       "    </tr>\n",
       "  </tbody>\n",
       "</table>\n",
       "</div>"
      ],
      "text/plain": [
       "  Amostra   RPL32     VGR      VG Group  Day\n",
       "0    A1-1  19.178  26.597  28.589     A    1\n",
       "1    A1-1  19.206  26.662  28.752     A    1\n",
       "2    A1-2  18.391  28.084  30.028     A    1\n",
       "3    A1-2  18.282  28.165  29.857     A    1\n",
       "4    A1-3  18.034  25.990  28.405     A    1"
      ]
     },
     "execution_count": 6,
     "metadata": {},
     "output_type": "execute_result"
    }
   ],
   "source": [
    "df = pd.read_excel('DBGeneticExpressionOvaries.xlsx')\n",
    "df['Group'] = df['Amostra'].apply(lambda x: x[0])\n",
    "df['Day'] = df['Amostra'].apply(lambda x: int(x[1]) if x[1] != 'u' else 0)\n",
    "df.head()"
   ]
  },
  {
   "cell_type": "code",
   "execution_count": 7,
   "id": "33a41beb-8345-474e-b21f-949c27efd4ce",
   "metadata": {},
   "outputs": [
    {
     "data": {
      "text/html": [
       "<div>\n",
       "<style scoped>\n",
       "    .dataframe tbody tr th:only-of-type {\n",
       "        vertical-align: middle;\n",
       "    }\n",
       "\n",
       "    .dataframe tbody tr th {\n",
       "        vertical-align: top;\n",
       "    }\n",
       "\n",
       "    .dataframe thead th {\n",
       "        text-align: right;\n",
       "    }\n",
       "</style>\n",
       "<table border=\"1\" class=\"dataframe\">\n",
       "  <thead>\n",
       "    <tr style=\"text-align: right;\">\n",
       "      <th></th>\n",
       "      <th>Amostra</th>\n",
       "      <th>RPL32</th>\n",
       "      <th>VGR</th>\n",
       "      <th>VG</th>\n",
       "      <th>Group</th>\n",
       "      <th>Day</th>\n",
       "    </tr>\n",
       "  </thead>\n",
       "  <tbody>\n",
       "    <tr>\n",
       "      <th>19</th>\n",
       "      <td>Pu-1</td>\n",
       "      <td>19.253</td>\n",
       "      <td>27.473</td>\n",
       "      <td>NaN</td>\n",
       "      <td>P</td>\n",
       "      <td>0</td>\n",
       "    </tr>\n",
       "  </tbody>\n",
       "</table>\n",
       "</div>"
      ],
      "text/plain": [
       "   Amostra   RPL32     VGR  VG Group  Day\n",
       "19    Pu-1  19.253  27.473 NaN     P    0"
      ]
     },
     "execution_count": 7,
     "metadata": {},
     "output_type": "execute_result"
    }
   ],
   "source": [
    "df[df['VG'].isna()]"
   ]
  },
  {
   "cell_type": "code",
   "execution_count": 8,
   "id": "199ffa03-51b0-4d01-be3b-e635fdb4b53c",
   "metadata": {},
   "outputs": [
    {
     "data": {
      "text/plain": [
       "35.748"
      ]
     },
     "execution_count": 8,
     "metadata": {},
     "output_type": "execute_result"
    }
   ],
   "source": [
    "df[df['Amostra'] == 'Pu-1']['VG'].mean() "
   ]
  },
  {
   "cell_type": "code",
   "execution_count": 9,
   "id": "d9a825a7-5a70-4d12-9472-2ef029c731a0",
   "metadata": {},
   "outputs": [
    {
     "name": "stderr",
     "output_type": "stream",
     "text": [
      "C:\\Users\\waner\\AppData\\Local\\Temp\\ipykernel_20576\\3029813970.py:1: SettingWithCopyWarning: \n",
      "A value is trying to be set on a copy of a slice from a DataFrame.\n",
      "Try using .loc[row_indexer,col_indexer] = value instead\n",
      "\n",
      "See the caveats in the documentation: https://pandas.pydata.org/pandas-docs/stable/user_guide/indexing.html#returning-a-view-versus-a-copy\n",
      "  df[df['Amostra'] == 'Pu-1']['VG'] = df[df['Amostra'] == 'Pu-1']['VG'].mean()\n"
     ]
    }
   ],
   "source": [
    "df[df['Amostra'] == 'Pu-1']['VG'] = df[df['Amostra'] == 'Pu-1']['VG'].mean() "
   ]
  },
  {
   "cell_type": "code",
   "execution_count": 10,
   "id": "70685a77-999f-49f7-90ec-3c00bad44e0a",
   "metadata": {},
   "outputs": [
    {
     "data": {
      "text/html": [
       "<div>\n",
       "<style scoped>\n",
       "    .dataframe tbody tr th:only-of-type {\n",
       "        vertical-align: middle;\n",
       "    }\n",
       "\n",
       "    .dataframe tbody tr th {\n",
       "        vertical-align: top;\n",
       "    }\n",
       "\n",
       "    .dataframe thead th {\n",
       "        text-align: right;\n",
       "    }\n",
       "</style>\n",
       "<table border=\"1\" class=\"dataframe\">\n",
       "  <thead>\n",
       "    <tr style=\"text-align: right;\">\n",
       "      <th></th>\n",
       "      <th>RPL32</th>\n",
       "      <th>VGR</th>\n",
       "      <th>VG</th>\n",
       "      <th>Day</th>\n",
       "    </tr>\n",
       "  </thead>\n",
       "  <tbody>\n",
       "    <tr>\n",
       "      <th>count</th>\n",
       "      <td>78.000000</td>\n",
       "      <td>78.00000</td>\n",
       "      <td>77.000000</td>\n",
       "      <td>78.000000</td>\n",
       "    </tr>\n",
       "    <tr>\n",
       "      <th>mean</th>\n",
       "      <td>18.600436</td>\n",
       "      <td>26.19741</td>\n",
       "      <td>29.356403</td>\n",
       "      <td>4.000000</td>\n",
       "    </tr>\n",
       "    <tr>\n",
       "      <th>std</th>\n",
       "      <td>0.843461</td>\n",
       "      <td>1.67892</td>\n",
       "      <td>2.980935</td>\n",
       "      <td>3.006486</td>\n",
       "    </tr>\n",
       "    <tr>\n",
       "      <th>min</th>\n",
       "      <td>16.984000</td>\n",
       "      <td>23.14400</td>\n",
       "      <td>23.278000</td>\n",
       "      <td>0.000000</td>\n",
       "    </tr>\n",
       "    <tr>\n",
       "      <th>25%</th>\n",
       "      <td>17.979000</td>\n",
       "      <td>25.02800</td>\n",
       "      <td>28.038000</td>\n",
       "      <td>1.000000</td>\n",
       "    </tr>\n",
       "    <tr>\n",
       "      <th>50%</th>\n",
       "      <td>18.638000</td>\n",
       "      <td>26.13050</td>\n",
       "      <td>28.683000</td>\n",
       "      <td>4.000000</td>\n",
       "    </tr>\n",
       "    <tr>\n",
       "      <th>75%</th>\n",
       "      <td>19.276250</td>\n",
       "      <td>27.14975</td>\n",
       "      <td>30.028000</td>\n",
       "      <td>8.000000</td>\n",
       "    </tr>\n",
       "    <tr>\n",
       "      <th>max</th>\n",
       "      <td>20.269000</td>\n",
       "      <td>31.17200</td>\n",
       "      <td>40.000000</td>\n",
       "      <td>8.000000</td>\n",
       "    </tr>\n",
       "  </tbody>\n",
       "</table>\n",
       "</div>"
      ],
      "text/plain": [
       "           RPL32       VGR         VG        Day\n",
       "count  78.000000  78.00000  77.000000  78.000000\n",
       "mean   18.600436  26.19741  29.356403   4.000000\n",
       "std     0.843461   1.67892   2.980935   3.006486\n",
       "min    16.984000  23.14400  23.278000   0.000000\n",
       "25%    17.979000  25.02800  28.038000   1.000000\n",
       "50%    18.638000  26.13050  28.683000   4.000000\n",
       "75%    19.276250  27.14975  30.028000   8.000000\n",
       "max    20.269000  31.17200  40.000000   8.000000"
      ]
     },
     "execution_count": 10,
     "metadata": {},
     "output_type": "execute_result"
    }
   ],
   "source": [
    "df.describe()"
   ]
  },
  {
   "cell_type": "code",
   "execution_count": 11,
   "id": "ba3e53cc-552c-4d61-ae1e-fb5afa883283",
   "metadata": {},
   "outputs": [],
   "source": [
    "df_mean = df # df.groupby(['Amostra', 'Group']).mean().reset_index()"
   ]
  },
  {
   "cell_type": "code",
   "execution_count": 12,
   "id": "e74a9f62-c24d-46a3-aafc-b4ab861572b9",
   "metadata": {},
   "outputs": [
    {
     "data": {
      "text/html": [
       "<div>\n",
       "<style scoped>\n",
       "    .dataframe tbody tr th:only-of-type {\n",
       "        vertical-align: middle;\n",
       "    }\n",
       "\n",
       "    .dataframe tbody tr th {\n",
       "        vertical-align: top;\n",
       "    }\n",
       "\n",
       "    .dataframe thead th {\n",
       "        text-align: right;\n",
       "    }\n",
       "</style>\n",
       "<table border=\"1\" class=\"dataframe\">\n",
       "  <thead>\n",
       "    <tr style=\"text-align: right;\">\n",
       "      <th></th>\n",
       "      <th>Amostra</th>\n",
       "      <th>RPL32</th>\n",
       "      <th>VGR</th>\n",
       "      <th>VG</th>\n",
       "      <th>Group</th>\n",
       "      <th>Day</th>\n",
       "    </tr>\n",
       "  </thead>\n",
       "  <tbody>\n",
       "    <tr>\n",
       "      <th>0</th>\n",
       "      <td>A1-1</td>\n",
       "      <td>19.178</td>\n",
       "      <td>26.597</td>\n",
       "      <td>28.589</td>\n",
       "      <td>A</td>\n",
       "      <td>1</td>\n",
       "    </tr>\n",
       "    <tr>\n",
       "      <th>1</th>\n",
       "      <td>A1-1</td>\n",
       "      <td>19.206</td>\n",
       "      <td>26.662</td>\n",
       "      <td>28.752</td>\n",
       "      <td>A</td>\n",
       "      <td>1</td>\n",
       "    </tr>\n",
       "    <tr>\n",
       "      <th>2</th>\n",
       "      <td>A1-2</td>\n",
       "      <td>18.391</td>\n",
       "      <td>28.084</td>\n",
       "      <td>30.028</td>\n",
       "      <td>A</td>\n",
       "      <td>1</td>\n",
       "    </tr>\n",
       "    <tr>\n",
       "      <th>3</th>\n",
       "      <td>A1-2</td>\n",
       "      <td>18.282</td>\n",
       "      <td>28.165</td>\n",
       "      <td>29.857</td>\n",
       "      <td>A</td>\n",
       "      <td>1</td>\n",
       "    </tr>\n",
       "    <tr>\n",
       "      <th>4</th>\n",
       "      <td>A1-3</td>\n",
       "      <td>18.034</td>\n",
       "      <td>25.990</td>\n",
       "      <td>28.405</td>\n",
       "      <td>A</td>\n",
       "      <td>1</td>\n",
       "    </tr>\n",
       "    <tr>\n",
       "      <th>...</th>\n",
       "      <td>...</td>\n",
       "      <td>...</td>\n",
       "      <td>...</td>\n",
       "      <td>...</td>\n",
       "      <td>...</td>\n",
       "      <td>...</td>\n",
       "    </tr>\n",
       "    <tr>\n",
       "      <th>73</th>\n",
       "      <td>D8-1</td>\n",
       "      <td>19.539</td>\n",
       "      <td>27.053</td>\n",
       "      <td>29.749</td>\n",
       "      <td>D</td>\n",
       "      <td>8</td>\n",
       "    </tr>\n",
       "    <tr>\n",
       "      <th>74</th>\n",
       "      <td>D8-2</td>\n",
       "      <td>19.284</td>\n",
       "      <td>25.174</td>\n",
       "      <td>28.861</td>\n",
       "      <td>D</td>\n",
       "      <td>8</td>\n",
       "    </tr>\n",
       "    <tr>\n",
       "      <th>75</th>\n",
       "      <td>D8-2</td>\n",
       "      <td>19.376</td>\n",
       "      <td>25.148</td>\n",
       "      <td>28.742</td>\n",
       "      <td>D</td>\n",
       "      <td>8</td>\n",
       "    </tr>\n",
       "    <tr>\n",
       "      <th>76</th>\n",
       "      <td>D8-3</td>\n",
       "      <td>17.977</td>\n",
       "      <td>24.007</td>\n",
       "      <td>27.672</td>\n",
       "      <td>D</td>\n",
       "      <td>8</td>\n",
       "    </tr>\n",
       "    <tr>\n",
       "      <th>77</th>\n",
       "      <td>D8-3</td>\n",
       "      <td>17.912</td>\n",
       "      <td>23.892</td>\n",
       "      <td>27.508</td>\n",
       "      <td>D</td>\n",
       "      <td>8</td>\n",
       "    </tr>\n",
       "  </tbody>\n",
       "</table>\n",
       "<p>78 rows × 6 columns</p>\n",
       "</div>"
      ],
      "text/plain": [
       "   Amostra   RPL32     VGR      VG Group  Day\n",
       "0     A1-1  19.178  26.597  28.589     A    1\n",
       "1     A1-1  19.206  26.662  28.752     A    1\n",
       "2     A1-2  18.391  28.084  30.028     A    1\n",
       "3     A1-2  18.282  28.165  29.857     A    1\n",
       "4     A1-3  18.034  25.990  28.405     A    1\n",
       "..     ...     ...     ...     ...   ...  ...\n",
       "73    D8-1  19.539  27.053  29.749     D    8\n",
       "74    D8-2  19.284  25.174  28.861     D    8\n",
       "75    D8-2  19.376  25.148  28.742     D    8\n",
       "76    D8-3  17.977  24.007  27.672     D    8\n",
       "77    D8-3  17.912  23.892  27.508     D    8\n",
       "\n",
       "[78 rows x 6 columns]"
      ]
     },
     "execution_count": 12,
     "metadata": {},
     "output_type": "execute_result"
    }
   ],
   "source": [
    "df_mean"
   ]
  },
  {
   "cell_type": "markdown",
   "id": "77e22aea",
   "metadata": {},
   "source": [
    "Each distribution is a total of eggs layed during 10 days for each female individual"
   ]
  },
  {
   "cell_type": "code",
   "execution_count": 13,
   "id": "1f38408f-d454-42ab-9e53-f4cc1063c518",
   "metadata": {},
   "outputs": [
    {
     "data": {
      "text/html": [
       "<div>\n",
       "<style scoped>\n",
       "    .dataframe tbody tr th:only-of-type {\n",
       "        vertical-align: middle;\n",
       "    }\n",
       "\n",
       "    .dataframe tbody tr th {\n",
       "        vertical-align: top;\n",
       "    }\n",
       "\n",
       "    .dataframe thead th {\n",
       "        text-align: right;\n",
       "    }\n",
       "</style>\n",
       "<table border=\"1\" class=\"dataframe\">\n",
       "  <thead>\n",
       "    <tr style=\"text-align: right;\">\n",
       "      <th></th>\n",
       "      <th>Amostra</th>\n",
       "      <th>RPL32</th>\n",
       "      <th>VGR</th>\n",
       "      <th>VG</th>\n",
       "      <th>Group</th>\n",
       "      <th>Day</th>\n",
       "      <th>DCT_VG</th>\n",
       "      <th>DCT_VGR</th>\n",
       "    </tr>\n",
       "  </thead>\n",
       "  <tbody>\n",
       "    <tr>\n",
       "      <th>0</th>\n",
       "      <td>A1-1</td>\n",
       "      <td>19.178</td>\n",
       "      <td>26.597</td>\n",
       "      <td>28.589</td>\n",
       "      <td>A</td>\n",
       "      <td>1</td>\n",
       "      <td>9.411</td>\n",
       "      <td>7.419</td>\n",
       "    </tr>\n",
       "    <tr>\n",
       "      <th>1</th>\n",
       "      <td>A1-1</td>\n",
       "      <td>19.206</td>\n",
       "      <td>26.662</td>\n",
       "      <td>28.752</td>\n",
       "      <td>A</td>\n",
       "      <td>1</td>\n",
       "      <td>9.546</td>\n",
       "      <td>7.456</td>\n",
       "    </tr>\n",
       "    <tr>\n",
       "      <th>2</th>\n",
       "      <td>A1-2</td>\n",
       "      <td>18.391</td>\n",
       "      <td>28.084</td>\n",
       "      <td>30.028</td>\n",
       "      <td>A</td>\n",
       "      <td>1</td>\n",
       "      <td>11.637</td>\n",
       "      <td>9.693</td>\n",
       "    </tr>\n",
       "    <tr>\n",
       "      <th>3</th>\n",
       "      <td>A1-2</td>\n",
       "      <td>18.282</td>\n",
       "      <td>28.165</td>\n",
       "      <td>29.857</td>\n",
       "      <td>A</td>\n",
       "      <td>1</td>\n",
       "      <td>11.575</td>\n",
       "      <td>9.883</td>\n",
       "    </tr>\n",
       "    <tr>\n",
       "      <th>4</th>\n",
       "      <td>A1-3</td>\n",
       "      <td>18.034</td>\n",
       "      <td>25.990</td>\n",
       "      <td>28.405</td>\n",
       "      <td>A</td>\n",
       "      <td>1</td>\n",
       "      <td>10.371</td>\n",
       "      <td>7.956</td>\n",
       "    </tr>\n",
       "  </tbody>\n",
       "</table>\n",
       "</div>"
      ],
      "text/plain": [
       "  Amostra   RPL32     VGR      VG Group  Day  DCT_VG  DCT_VGR\n",
       "0    A1-1  19.178  26.597  28.589     A    1   9.411    7.419\n",
       "1    A1-1  19.206  26.662  28.752     A    1   9.546    7.456\n",
       "2    A1-2  18.391  28.084  30.028     A    1  11.637    9.693\n",
       "3    A1-2  18.282  28.165  29.857     A    1  11.575    9.883\n",
       "4    A1-3  18.034  25.990  28.405     A    1  10.371    7.956"
      ]
     },
     "execution_count": 13,
     "metadata": {},
     "output_type": "execute_result"
    }
   ],
   "source": [
    "df_mean['DCT_VG'] =  df_mean['VG'] - df_mean['RPL32']\n",
    "df_mean['DCT_VGR'] =  df_mean['VGR'] - df_mean['RPL32']\n",
    "df_mean.head()"
   ]
  },
  {
   "cell_type": "code",
   "execution_count": 14,
   "id": "4b8464c6-7984-4845-964f-1a36ba9afe9c",
   "metadata": {},
   "outputs": [
    {
     "data": {
      "text/html": [
       "<div>\n",
       "<style scoped>\n",
       "    .dataframe tbody tr th:only-of-type {\n",
       "        vertical-align: middle;\n",
       "    }\n",
       "\n",
       "    .dataframe tbody tr th {\n",
       "        vertical-align: top;\n",
       "    }\n",
       "\n",
       "    .dataframe thead th {\n",
       "        text-align: right;\n",
       "    }\n",
       "</style>\n",
       "<table border=\"1\" class=\"dataframe\">\n",
       "  <thead>\n",
       "    <tr style=\"text-align: right;\">\n",
       "      <th></th>\n",
       "      <th>Amostra</th>\n",
       "      <th>RPL32</th>\n",
       "      <th>VGR</th>\n",
       "      <th>VG</th>\n",
       "      <th>Group</th>\n",
       "      <th>Day</th>\n",
       "      <th>DCT_VG</th>\n",
       "      <th>DCT_VGR</th>\n",
       "      <th>DDCT_VG</th>\n",
       "      <th>DDCT_VGR</th>\n",
       "    </tr>\n",
       "  </thead>\n",
       "  <tbody>\n",
       "    <tr>\n",
       "      <th>0</th>\n",
       "      <td>A1-1</td>\n",
       "      <td>19.178</td>\n",
       "      <td>26.597</td>\n",
       "      <td>28.589</td>\n",
       "      <td>A</td>\n",
       "      <td>1</td>\n",
       "      <td>9.411</td>\n",
       "      <td>7.419</td>\n",
       "      <td>5.095</td>\n",
       "      <td>1.984</td>\n",
       "    </tr>\n",
       "    <tr>\n",
       "      <th>1</th>\n",
       "      <td>A1-1</td>\n",
       "      <td>19.206</td>\n",
       "      <td>26.662</td>\n",
       "      <td>28.752</td>\n",
       "      <td>A</td>\n",
       "      <td>1</td>\n",
       "      <td>9.546</td>\n",
       "      <td>7.456</td>\n",
       "      <td>5.230</td>\n",
       "      <td>2.021</td>\n",
       "    </tr>\n",
       "    <tr>\n",
       "      <th>2</th>\n",
       "      <td>A1-2</td>\n",
       "      <td>18.391</td>\n",
       "      <td>28.084</td>\n",
       "      <td>30.028</td>\n",
       "      <td>A</td>\n",
       "      <td>1</td>\n",
       "      <td>11.637</td>\n",
       "      <td>9.693</td>\n",
       "      <td>7.321</td>\n",
       "      <td>4.258</td>\n",
       "    </tr>\n",
       "    <tr>\n",
       "      <th>3</th>\n",
       "      <td>A1-2</td>\n",
       "      <td>18.282</td>\n",
       "      <td>28.165</td>\n",
       "      <td>29.857</td>\n",
       "      <td>A</td>\n",
       "      <td>1</td>\n",
       "      <td>11.575</td>\n",
       "      <td>9.883</td>\n",
       "      <td>7.259</td>\n",
       "      <td>4.448</td>\n",
       "    </tr>\n",
       "    <tr>\n",
       "      <th>4</th>\n",
       "      <td>A1-3</td>\n",
       "      <td>18.034</td>\n",
       "      <td>25.990</td>\n",
       "      <td>28.405</td>\n",
       "      <td>A</td>\n",
       "      <td>1</td>\n",
       "      <td>10.371</td>\n",
       "      <td>7.956</td>\n",
       "      <td>6.055</td>\n",
       "      <td>2.521</td>\n",
       "    </tr>\n",
       "  </tbody>\n",
       "</table>\n",
       "</div>"
      ],
      "text/plain": [
       "  Amostra   RPL32     VGR      VG Group  Day  DCT_VG  DCT_VGR  DDCT_VG  \\\n",
       "0    A1-1  19.178  26.597  28.589     A    1   9.411    7.419    5.095   \n",
       "1    A1-1  19.206  26.662  28.752     A    1   9.546    7.456    5.230   \n",
       "2    A1-2  18.391  28.084  30.028     A    1  11.637    9.693    7.321   \n",
       "3    A1-2  18.282  28.165  29.857     A    1  11.575    9.883    7.259   \n",
       "4    A1-3  18.034  25.990  28.405     A    1  10.371    7.956    6.055   \n",
       "\n",
       "   DDCT_VGR  \n",
       "0     1.984  \n",
       "1     2.021  \n",
       "2     4.258  \n",
       "3     4.448  \n",
       "4     2.521  "
      ]
     },
     "execution_count": 14,
     "metadata": {},
     "output_type": "execute_result"
    }
   ],
   "source": [
    "df_mean['DDCT_VG'] =  df_mean['DCT_VG'] - df_mean['DCT_VG'].min() \n",
    "df_mean['DDCT_VGR'] =  df_mean['DCT_VGR'] - df_mean['DCT_VGR'].min()\n",
    "df_mean.head()"
   ]
  },
  {
   "cell_type": "code",
   "execution_count": 15,
   "id": "f0aec696-3cc4-48c5-be05-6a4cb986db56",
   "metadata": {},
   "outputs": [
    {
     "data": {
      "text/html": [
       "<div>\n",
       "<style scoped>\n",
       "    .dataframe tbody tr th:only-of-type {\n",
       "        vertical-align: middle;\n",
       "    }\n",
       "\n",
       "    .dataframe tbody tr th {\n",
       "        vertical-align: top;\n",
       "    }\n",
       "\n",
       "    .dataframe thead th {\n",
       "        text-align: right;\n",
       "    }\n",
       "</style>\n",
       "<table border=\"1\" class=\"dataframe\">\n",
       "  <thead>\n",
       "    <tr style=\"text-align: right;\">\n",
       "      <th></th>\n",
       "      <th>Amostra</th>\n",
       "      <th>RPL32</th>\n",
       "      <th>VGR</th>\n",
       "      <th>VG</th>\n",
       "      <th>Group</th>\n",
       "      <th>Day</th>\n",
       "      <th>DCT_VG</th>\n",
       "      <th>DCT_VGR</th>\n",
       "      <th>DDCT_VG</th>\n",
       "      <th>DDCT_VGR</th>\n",
       "      <th>EXP_DDCT_VG</th>\n",
       "      <th>EXP_DDCT_VGR</th>\n",
       "    </tr>\n",
       "  </thead>\n",
       "  <tbody>\n",
       "    <tr>\n",
       "      <th>0</th>\n",
       "      <td>A1-1</td>\n",
       "      <td>19.178</td>\n",
       "      <td>26.597</td>\n",
       "      <td>28.589</td>\n",
       "      <td>A</td>\n",
       "      <td>1</td>\n",
       "      <td>9.411</td>\n",
       "      <td>7.419</td>\n",
       "      <td>5.095</td>\n",
       "      <td>1.984</td>\n",
       "      <td>0.029259</td>\n",
       "      <td>0.252788</td>\n",
       "    </tr>\n",
       "    <tr>\n",
       "      <th>1</th>\n",
       "      <td>A1-1</td>\n",
       "      <td>19.206</td>\n",
       "      <td>26.662</td>\n",
       "      <td>28.752</td>\n",
       "      <td>A</td>\n",
       "      <td>1</td>\n",
       "      <td>9.546</td>\n",
       "      <td>7.456</td>\n",
       "      <td>5.230</td>\n",
       "      <td>2.021</td>\n",
       "      <td>0.026645</td>\n",
       "      <td>0.246387</td>\n",
       "    </tr>\n",
       "    <tr>\n",
       "      <th>2</th>\n",
       "      <td>A1-2</td>\n",
       "      <td>18.391</td>\n",
       "      <td>28.084</td>\n",
       "      <td>30.028</td>\n",
       "      <td>A</td>\n",
       "      <td>1</td>\n",
       "      <td>11.637</td>\n",
       "      <td>9.693</td>\n",
       "      <td>7.321</td>\n",
       "      <td>4.258</td>\n",
       "      <td>0.006254</td>\n",
       "      <td>0.052265</td>\n",
       "    </tr>\n",
       "    <tr>\n",
       "      <th>3</th>\n",
       "      <td>A1-2</td>\n",
       "      <td>18.282</td>\n",
       "      <td>28.165</td>\n",
       "      <td>29.857</td>\n",
       "      <td>A</td>\n",
       "      <td>1</td>\n",
       "      <td>11.575</td>\n",
       "      <td>9.883</td>\n",
       "      <td>7.259</td>\n",
       "      <td>4.448</td>\n",
       "      <td>0.006529</td>\n",
       "      <td>0.045816</td>\n",
       "    </tr>\n",
       "    <tr>\n",
       "      <th>4</th>\n",
       "      <td>A1-3</td>\n",
       "      <td>18.034</td>\n",
       "      <td>25.990</td>\n",
       "      <td>28.405</td>\n",
       "      <td>A</td>\n",
       "      <td>1</td>\n",
       "      <td>10.371</td>\n",
       "      <td>7.956</td>\n",
       "      <td>6.055</td>\n",
       "      <td>2.521</td>\n",
       "      <td>0.015041</td>\n",
       "      <td>0.174222</td>\n",
       "    </tr>\n",
       "  </tbody>\n",
       "</table>\n",
       "</div>"
      ],
      "text/plain": [
       "  Amostra   RPL32     VGR      VG Group  Day  DCT_VG  DCT_VGR  DDCT_VG  \\\n",
       "0    A1-1  19.178  26.597  28.589     A    1   9.411    7.419    5.095   \n",
       "1    A1-1  19.206  26.662  28.752     A    1   9.546    7.456    5.230   \n",
       "2    A1-2  18.391  28.084  30.028     A    1  11.637    9.693    7.321   \n",
       "3    A1-2  18.282  28.165  29.857     A    1  11.575    9.883    7.259   \n",
       "4    A1-3  18.034  25.990  28.405     A    1  10.371    7.956    6.055   \n",
       "\n",
       "   DDCT_VGR  EXP_DDCT_VG  EXP_DDCT_VGR  \n",
       "0     1.984     0.029259      0.252788  \n",
       "1     2.021     0.026645      0.246387  \n",
       "2     4.258     0.006254      0.052265  \n",
       "3     4.448     0.006529      0.045816  \n",
       "4     2.521     0.015041      0.174222  "
      ]
     },
     "execution_count": 15,
     "metadata": {},
     "output_type": "execute_result"
    }
   ],
   "source": [
    "df_mean['EXP_DDCT_VG'] =  df_mean['DDCT_VG'].apply(lambda x: 2**(-x)) \n",
    "df_mean['EXP_DDCT_VGR'] =  df_mean['DDCT_VGR'].apply(lambda x: 2**(-x)) \n",
    "df_mean.head()"
   ]
  },
  {
   "cell_type": "markdown",
   "id": "ddad511c",
   "metadata": {},
   "source": [
    "## Sanity Test"
   ]
  },
  {
   "cell_type": "code",
   "execution_count": 16,
   "id": "a4cfde8e",
   "metadata": {},
   "outputs": [],
   "source": [
    "def interpret_ttest(a, b, alpha=0.05):\n",
    "    t_stat, df, cv, p = independent_ttest(a, b, alpha)\n",
    "    print('t=%.3f, df=%d, cv=%.5f, p=%.8f' % (t_stat, df, cv, p))\n",
    "#     # interpret via critical value\n",
    "#     if abs(t_stat) <= cv:\n",
    "#         print('Accept null hypothesis (Same distributions).')\n",
    "#     else:\n",
    "#         print('Reject the null hypothesis (Different distributions).')\n",
    "    # interpret via p-value\n",
    "    if p > alpha:\n",
    "        print(colored('Accept null hypothesis (Same distributions).', 'green'))\n",
    "    else:\n",
    "        print(colored('Reject the null hypothesis (Different distributions).', 'red'))"
   ]
  },
  {
   "cell_type": "code",
   "execution_count": 17,
   "id": "4fa3336f",
   "metadata": {},
   "outputs": [
    {
     "name": "stdout",
     "output_type": "stream",
     "text": [
      "t=50.674, df=9998, cv=1.64501, p=0.00000000\n",
      "\u001b[31mReject the null hypothesis (Different distributions).\u001b[0m\n"
     ]
    }
   ],
   "source": [
    "interpret_ttest(s,s2)"
   ]
  },
  {
   "cell_type": "code",
   "execution_count": 18,
   "id": "273f9c97",
   "metadata": {},
   "outputs": [],
   "source": [
    "def interpret_kwtest(a, b, alpha = 0.05):\n",
    "    stat, p = stats.kruskal(a, b)\n",
    "    print('Statistics=%.3f, p=%.8f' % (stat, p))\n",
    "    # interpret\n",
    "\n",
    "    if p > alpha:\n",
    "        print(colored('Same distributions (fail to reject H0)', 'green'))\n",
    "    else:\n",
    "        print(colored('Different distributions (reject H0)', 'red'))"
   ]
  },
  {
   "cell_type": "code",
   "execution_count": 19,
   "id": "9f9497b6",
   "metadata": {},
   "outputs": [
    {
     "name": "stdout",
     "output_type": "stream",
     "text": [
      "Statistics=2073.767, p=0.00000000\n",
      "\u001b[31mDifferent distributions (reject H0)\u001b[0m\n"
     ]
    }
   ],
   "source": [
    "interpret_kwtest(s,s2)"
   ]
  },
  {
   "cell_type": "code",
   "execution_count": 20,
   "id": "a9bc3179",
   "metadata": {},
   "outputs": [],
   "source": [
    "from scipy.stats import shapiro\n",
    "# normality test\n",
    "# interpret results\n",
    "def interpret_normaltest(data, alpha=0.05):\n",
    "    stat, p = shapiro(data)\n",
    "    print('Statistics=%.3f, p=%.3f' % (stat, p))\n",
    "\n",
    "    if p > alpha:\n",
    "        print(colored('Sample looks Gaussian (fail to reject H0)', 'green'))\n",
    "    else:\n",
    "        print(colored('Sample does not look Gaussian (reject H0)', 'red'))\n",
    "\n"
   ]
  },
  {
   "cell_type": "code",
   "execution_count": 21,
   "id": "50e1be02",
   "metadata": {},
   "outputs": [
    {
     "name": "stdout",
     "output_type": "stream",
     "text": [
      "Statistics=1.000, p=0.586\n",
      "\u001b[32mSample looks Gaussian (fail to reject H0)\u001b[0m\n"
     ]
    }
   ],
   "source": [
    "interpret_normaltest(s)"
   ]
  },
  {
   "cell_type": "code",
   "execution_count": 22,
   "id": "9fa13aa5",
   "metadata": {},
   "outputs": [
    {
     "name": "stdout",
     "output_type": "stream",
     "text": [
      "Statistics=1.000, p=0.698\n",
      "\u001b[32mSample looks Gaussian (fail to reject H0)\u001b[0m\n"
     ]
    }
   ],
   "source": [
    "interpret_normaltest(s2)"
   ]
  },
  {
   "cell_type": "code",
   "execution_count": 23,
   "id": "5f71c0f5",
   "metadata": {},
   "outputs": [
    {
     "name": "stdout",
     "output_type": "stream",
     "text": [
      "Statistics=0.236, p=0.000\n",
      "\u001b[31mSample does not look Gaussian (reject H0)\u001b[0m\n"
     ]
    }
   ],
   "source": [
    "interpret_normaltest(zz)"
   ]
  },
  {
   "cell_type": "markdown",
   "id": "518972f6",
   "metadata": {},
   "source": [
    "## Normality Tests"
   ]
  },
  {
   "cell_type": "code",
   "execution_count": 24,
   "id": "13d3fc65-00f5-467c-a2e1-c1e2bc597dd2",
   "metadata": {},
   "outputs": [
    {
     "data": {
      "text/html": [
       "<div>\n",
       "<style scoped>\n",
       "    .dataframe tbody tr th:only-of-type {\n",
       "        vertical-align: middle;\n",
       "    }\n",
       "\n",
       "    .dataframe tbody tr th {\n",
       "        vertical-align: top;\n",
       "    }\n",
       "\n",
       "    .dataframe thead th {\n",
       "        text-align: right;\n",
       "    }\n",
       "</style>\n",
       "<table border=\"1\" class=\"dataframe\">\n",
       "  <thead>\n",
       "    <tr style=\"text-align: right;\">\n",
       "      <th></th>\n",
       "      <th>Amostra</th>\n",
       "      <th>RPL32</th>\n",
       "      <th>VGR</th>\n",
       "      <th>VG</th>\n",
       "      <th>Group</th>\n",
       "      <th>Day</th>\n",
       "      <th>DCT_VG</th>\n",
       "      <th>DCT_VGR</th>\n",
       "      <th>DDCT_VG</th>\n",
       "      <th>DDCT_VGR</th>\n",
       "      <th>EXP_DDCT_VG</th>\n",
       "      <th>EXP_DDCT_VGR</th>\n",
       "    </tr>\n",
       "  </thead>\n",
       "  <tbody>\n",
       "    <tr>\n",
       "      <th>0</th>\n",
       "      <td>A1-1</td>\n",
       "      <td>19.178</td>\n",
       "      <td>26.597</td>\n",
       "      <td>28.589</td>\n",
       "      <td>A</td>\n",
       "      <td>1</td>\n",
       "      <td>9.411</td>\n",
       "      <td>7.419</td>\n",
       "      <td>5.095</td>\n",
       "      <td>1.984</td>\n",
       "      <td>0.029259</td>\n",
       "      <td>0.252788</td>\n",
       "    </tr>\n",
       "    <tr>\n",
       "      <th>1</th>\n",
       "      <td>A1-1</td>\n",
       "      <td>19.206</td>\n",
       "      <td>26.662</td>\n",
       "      <td>28.752</td>\n",
       "      <td>A</td>\n",
       "      <td>1</td>\n",
       "      <td>9.546</td>\n",
       "      <td>7.456</td>\n",
       "      <td>5.230</td>\n",
       "      <td>2.021</td>\n",
       "      <td>0.026645</td>\n",
       "      <td>0.246387</td>\n",
       "    </tr>\n",
       "    <tr>\n",
       "      <th>2</th>\n",
       "      <td>A1-2</td>\n",
       "      <td>18.391</td>\n",
       "      <td>28.084</td>\n",
       "      <td>30.028</td>\n",
       "      <td>A</td>\n",
       "      <td>1</td>\n",
       "      <td>11.637</td>\n",
       "      <td>9.693</td>\n",
       "      <td>7.321</td>\n",
       "      <td>4.258</td>\n",
       "      <td>0.006254</td>\n",
       "      <td>0.052265</td>\n",
       "    </tr>\n",
       "    <tr>\n",
       "      <th>3</th>\n",
       "      <td>A1-2</td>\n",
       "      <td>18.282</td>\n",
       "      <td>28.165</td>\n",
       "      <td>29.857</td>\n",
       "      <td>A</td>\n",
       "      <td>1</td>\n",
       "      <td>11.575</td>\n",
       "      <td>9.883</td>\n",
       "      <td>7.259</td>\n",
       "      <td>4.448</td>\n",
       "      <td>0.006529</td>\n",
       "      <td>0.045816</td>\n",
       "    </tr>\n",
       "    <tr>\n",
       "      <th>4</th>\n",
       "      <td>A1-3</td>\n",
       "      <td>18.034</td>\n",
       "      <td>25.990</td>\n",
       "      <td>28.405</td>\n",
       "      <td>A</td>\n",
       "      <td>1</td>\n",
       "      <td>10.371</td>\n",
       "      <td>7.956</td>\n",
       "      <td>6.055</td>\n",
       "      <td>2.521</td>\n",
       "      <td>0.015041</td>\n",
       "      <td>0.174222</td>\n",
       "    </tr>\n",
       "  </tbody>\n",
       "</table>\n",
       "</div>"
      ],
      "text/plain": [
       "  Amostra   RPL32     VGR      VG Group  Day  DCT_VG  DCT_VGR  DDCT_VG  \\\n",
       "0    A1-1  19.178  26.597  28.589     A    1   9.411    7.419    5.095   \n",
       "1    A1-1  19.206  26.662  28.752     A    1   9.546    7.456    5.230   \n",
       "2    A1-2  18.391  28.084  30.028     A    1  11.637    9.693    7.321   \n",
       "3    A1-2  18.282  28.165  29.857     A    1  11.575    9.883    7.259   \n",
       "4    A1-3  18.034  25.990  28.405     A    1  10.371    7.956    6.055   \n",
       "\n",
       "   DDCT_VGR  EXP_DDCT_VG  EXP_DDCT_VGR  \n",
       "0     1.984     0.029259      0.252788  \n",
       "1     2.021     0.026645      0.246387  \n",
       "2     4.258     0.006254      0.052265  \n",
       "3     4.448     0.006529      0.045816  \n",
       "4     2.521     0.015041      0.174222  "
      ]
     },
     "execution_count": 24,
     "metadata": {},
     "output_type": "execute_result"
    }
   ],
   "source": [
    "df_mean.head()"
   ]
  },
  {
   "cell_type": "code",
   "execution_count": 25,
   "id": "5a70bce1-ca68-4f48-86aa-585c9f6a24eb",
   "metadata": {},
   "outputs": [
    {
     "data": {
      "text/plain": [
       "array(['A', 'P', 'B', 'C', 'D'], dtype=object)"
      ]
     },
     "execution_count": 25,
     "metadata": {},
     "output_type": "execute_result"
    }
   ],
   "source": [
    "groups = df_mean.Group.unique()\n",
    "groups"
   ]
  },
  {
   "cell_type": "code",
   "execution_count": 26,
   "id": "9636fff7",
   "metadata": {},
   "outputs": [],
   "source": [
    "distributions_vg  = {g: df_mean[df_mean['Group'] == g]['EXP_DDCT_VG'].values for g in groups}\n",
    "distributions_vgr  = {g: df_mean[df_mean['Group'] == g]['EXP_DDCT_VGR'].values for g in groups}"
   ]
  },
  {
   "cell_type": "markdown",
   "id": "626dbabb-5bd2-4929-8868-a50036024109",
   "metadata": {},
   "source": [
    "## Normality Test for VG "
   ]
  },
  {
   "cell_type": "code",
   "execution_count": 27,
   "id": "2cf39444-51d0-494b-9a3d-2023e25c30cb",
   "metadata": {},
   "outputs": [
    {
     "data": {
      "text/html": [
       "<div>\n",
       "<style scoped>\n",
       "    .dataframe tbody tr th:only-of-type {\n",
       "        vertical-align: middle;\n",
       "    }\n",
       "\n",
       "    .dataframe tbody tr th {\n",
       "        vertical-align: top;\n",
       "    }\n",
       "\n",
       "    .dataframe thead th {\n",
       "        text-align: right;\n",
       "    }\n",
       "</style>\n",
       "<table border=\"1\" class=\"dataframe\">\n",
       "  <thead>\n",
       "    <tr style=\"text-align: right;\">\n",
       "      <th></th>\n",
       "      <th>Amostra</th>\n",
       "      <th>RPL32</th>\n",
       "      <th>VGR</th>\n",
       "      <th>VG</th>\n",
       "      <th>Group</th>\n",
       "      <th>Day</th>\n",
       "      <th>DCT_VG</th>\n",
       "      <th>DCT_VGR</th>\n",
       "      <th>DDCT_VG</th>\n",
       "      <th>DDCT_VGR</th>\n",
       "      <th>EXP_DDCT_VG</th>\n",
       "      <th>EXP_DDCT_VGR</th>\n",
       "    </tr>\n",
       "  </thead>\n",
       "  <tbody>\n",
       "    <tr>\n",
       "      <th>0</th>\n",
       "      <td>A1-1</td>\n",
       "      <td>19.178</td>\n",
       "      <td>26.597</td>\n",
       "      <td>28.589</td>\n",
       "      <td>A</td>\n",
       "      <td>1</td>\n",
       "      <td>9.411</td>\n",
       "      <td>7.419</td>\n",
       "      <td>5.095</td>\n",
       "      <td>1.984</td>\n",
       "      <td>0.029259</td>\n",
       "      <td>0.252788</td>\n",
       "    </tr>\n",
       "    <tr>\n",
       "      <th>1</th>\n",
       "      <td>A1-1</td>\n",
       "      <td>19.206</td>\n",
       "      <td>26.662</td>\n",
       "      <td>28.752</td>\n",
       "      <td>A</td>\n",
       "      <td>1</td>\n",
       "      <td>9.546</td>\n",
       "      <td>7.456</td>\n",
       "      <td>5.230</td>\n",
       "      <td>2.021</td>\n",
       "      <td>0.026645</td>\n",
       "      <td>0.246387</td>\n",
       "    </tr>\n",
       "    <tr>\n",
       "      <th>2</th>\n",
       "      <td>A1-2</td>\n",
       "      <td>18.391</td>\n",
       "      <td>28.084</td>\n",
       "      <td>30.028</td>\n",
       "      <td>A</td>\n",
       "      <td>1</td>\n",
       "      <td>11.637</td>\n",
       "      <td>9.693</td>\n",
       "      <td>7.321</td>\n",
       "      <td>4.258</td>\n",
       "      <td>0.006254</td>\n",
       "      <td>0.052265</td>\n",
       "    </tr>\n",
       "    <tr>\n",
       "      <th>3</th>\n",
       "      <td>A1-2</td>\n",
       "      <td>18.282</td>\n",
       "      <td>28.165</td>\n",
       "      <td>29.857</td>\n",
       "      <td>A</td>\n",
       "      <td>1</td>\n",
       "      <td>11.575</td>\n",
       "      <td>9.883</td>\n",
       "      <td>7.259</td>\n",
       "      <td>4.448</td>\n",
       "      <td>0.006529</td>\n",
       "      <td>0.045816</td>\n",
       "    </tr>\n",
       "    <tr>\n",
       "      <th>4</th>\n",
       "      <td>A1-3</td>\n",
       "      <td>18.034</td>\n",
       "      <td>25.990</td>\n",
       "      <td>28.405</td>\n",
       "      <td>A</td>\n",
       "      <td>1</td>\n",
       "      <td>10.371</td>\n",
       "      <td>7.956</td>\n",
       "      <td>6.055</td>\n",
       "      <td>2.521</td>\n",
       "      <td>0.015041</td>\n",
       "      <td>0.174222</td>\n",
       "    </tr>\n",
       "    <tr>\n",
       "      <th>...</th>\n",
       "      <td>...</td>\n",
       "      <td>...</td>\n",
       "      <td>...</td>\n",
       "      <td>...</td>\n",
       "      <td>...</td>\n",
       "      <td>...</td>\n",
       "      <td>...</td>\n",
       "      <td>...</td>\n",
       "      <td>...</td>\n",
       "      <td>...</td>\n",
       "      <td>...</td>\n",
       "      <td>...</td>\n",
       "    </tr>\n",
       "    <tr>\n",
       "      <th>73</th>\n",
       "      <td>D8-1</td>\n",
       "      <td>19.539</td>\n",
       "      <td>27.053</td>\n",
       "      <td>29.749</td>\n",
       "      <td>D</td>\n",
       "      <td>8</td>\n",
       "      <td>10.210</td>\n",
       "      <td>7.514</td>\n",
       "      <td>5.894</td>\n",
       "      <td>2.079</td>\n",
       "      <td>0.016816</td>\n",
       "      <td>0.236678</td>\n",
       "    </tr>\n",
       "    <tr>\n",
       "      <th>74</th>\n",
       "      <td>D8-2</td>\n",
       "      <td>19.284</td>\n",
       "      <td>25.174</td>\n",
       "      <td>28.861</td>\n",
       "      <td>D</td>\n",
       "      <td>8</td>\n",
       "      <td>9.577</td>\n",
       "      <td>5.890</td>\n",
       "      <td>5.261</td>\n",
       "      <td>0.455</td>\n",
       "      <td>0.026078</td>\n",
       "      <td>0.729510</td>\n",
       "    </tr>\n",
       "    <tr>\n",
       "      <th>75</th>\n",
       "      <td>D8-2</td>\n",
       "      <td>19.376</td>\n",
       "      <td>25.148</td>\n",
       "      <td>28.742</td>\n",
       "      <td>D</td>\n",
       "      <td>8</td>\n",
       "      <td>9.366</td>\n",
       "      <td>5.772</td>\n",
       "      <td>5.050</td>\n",
       "      <td>0.337</td>\n",
       "      <td>0.030186</td>\n",
       "      <td>0.791686</td>\n",
       "    </tr>\n",
       "    <tr>\n",
       "      <th>76</th>\n",
       "      <td>D8-3</td>\n",
       "      <td>17.977</td>\n",
       "      <td>24.007</td>\n",
       "      <td>27.672</td>\n",
       "      <td>D</td>\n",
       "      <td>8</td>\n",
       "      <td>9.695</td>\n",
       "      <td>6.030</td>\n",
       "      <td>5.379</td>\n",
       "      <td>0.595</td>\n",
       "      <td>0.024030</td>\n",
       "      <td>0.662044</td>\n",
       "    </tr>\n",
       "    <tr>\n",
       "      <th>77</th>\n",
       "      <td>D8-3</td>\n",
       "      <td>17.912</td>\n",
       "      <td>23.892</td>\n",
       "      <td>27.508</td>\n",
       "      <td>D</td>\n",
       "      <td>8</td>\n",
       "      <td>9.596</td>\n",
       "      <td>5.980</td>\n",
       "      <td>5.280</td>\n",
       "      <td>0.545</td>\n",
       "      <td>0.025737</td>\n",
       "      <td>0.685391</td>\n",
       "    </tr>\n",
       "  </tbody>\n",
       "</table>\n",
       "<p>78 rows × 12 columns</p>\n",
       "</div>"
      ],
      "text/plain": [
       "   Amostra   RPL32     VGR      VG Group  Day  DCT_VG  DCT_VGR  DDCT_VG  \\\n",
       "0     A1-1  19.178  26.597  28.589     A    1   9.411    7.419    5.095   \n",
       "1     A1-1  19.206  26.662  28.752     A    1   9.546    7.456    5.230   \n",
       "2     A1-2  18.391  28.084  30.028     A    1  11.637    9.693    7.321   \n",
       "3     A1-2  18.282  28.165  29.857     A    1  11.575    9.883    7.259   \n",
       "4     A1-3  18.034  25.990  28.405     A    1  10.371    7.956    6.055   \n",
       "..     ...     ...     ...     ...   ...  ...     ...      ...      ...   \n",
       "73    D8-1  19.539  27.053  29.749     D    8  10.210    7.514    5.894   \n",
       "74    D8-2  19.284  25.174  28.861     D    8   9.577    5.890    5.261   \n",
       "75    D8-2  19.376  25.148  28.742     D    8   9.366    5.772    5.050   \n",
       "76    D8-3  17.977  24.007  27.672     D    8   9.695    6.030    5.379   \n",
       "77    D8-3  17.912  23.892  27.508     D    8   9.596    5.980    5.280   \n",
       "\n",
       "    DDCT_VGR  EXP_DDCT_VG  EXP_DDCT_VGR  \n",
       "0      1.984     0.029259      0.252788  \n",
       "1      2.021     0.026645      0.246387  \n",
       "2      4.258     0.006254      0.052265  \n",
       "3      4.448     0.006529      0.045816  \n",
       "4      2.521     0.015041      0.174222  \n",
       "..       ...          ...           ...  \n",
       "73     2.079     0.016816      0.236678  \n",
       "74     0.455     0.026078      0.729510  \n",
       "75     0.337     0.030186      0.791686  \n",
       "76     0.595     0.024030      0.662044  \n",
       "77     0.545     0.025737      0.685391  \n",
       "\n",
       "[78 rows x 12 columns]"
      ]
     },
     "execution_count": 27,
     "metadata": {},
     "output_type": "execute_result"
    }
   ],
   "source": [
    "df_mean"
   ]
  },
  {
   "cell_type": "code",
   "execution_count": 28,
   "id": "ca6d8395-c59d-40eb-8ed5-b651db26bb27",
   "metadata": {},
   "outputs": [],
   "source": [
    "df_mean.to_excel('ovaries_exp_ddct.xlsx')"
   ]
  },
  {
   "cell_type": "code",
   "execution_count": 29,
   "id": "a211fed5",
   "metadata": {},
   "outputs": [
    {
     "name": "stdout",
     "output_type": "stream",
     "text": [
      "Distributions A\n",
      "Statistics=0.942, p=0.319\n",
      "\u001b[32mSample looks Gaussian (fail to reject H0)\u001b[0m\n",
      "\n",
      "\n",
      "\n",
      "Distributions P\n",
      "Statistics=nan, p=1.000\n",
      "\u001b[32mSample looks Gaussian (fail to reject H0)\u001b[0m\n",
      "\n",
      "\n",
      "\n",
      "Distributions B\n",
      "Statistics=0.843, p=0.006\n",
      "\u001b[31mSample does not look Gaussian (reject H0)\u001b[0m\n",
      "\n",
      "\n",
      "\n",
      "Distributions C\n",
      "Statistics=0.392, p=0.000\n",
      "\u001b[31mSample does not look Gaussian (reject H0)\u001b[0m\n",
      "\n",
      "\n",
      "\n",
      "Distributions D\n",
      "Statistics=0.668, p=0.000\n",
      "\u001b[31mSample does not look Gaussian (reject H0)\u001b[0m\n",
      "\n",
      "\n",
      "\n"
     ]
    }
   ],
   "source": [
    "plt.rcParams.update({'figure.figsize':(7,5), 'figure.dpi':100})\n",
    "for k, v in distributions_vg.items():\n",
    "    print(f'Distributions {k}')\n",
    "    interpret_normaltest(v)\n",
    "#     plt.hist(v, bins=7)\n",
    "#     plt.gca().set(ylabel='Frequency')\n",
    "#     plt.title(k)\n",
    "#     plt.show()\n",
    "    print('\\n\\n')"
   ]
  },
  {
   "cell_type": "markdown",
   "id": "8389fbff-14fc-4b98-a57e-27b5f3a3bfcf",
   "metadata": {},
   "source": [
    "## Normality Test for VGR\n"
   ]
  },
  {
   "cell_type": "code",
   "execution_count": 30,
   "id": "e59a97d5-aa37-46dd-97be-ee51e7cc1e94",
   "metadata": {},
   "outputs": [
    {
     "name": "stdout",
     "output_type": "stream",
     "text": [
      "Distributions A\n",
      "Statistics=0.844, p=0.007\n",
      "\u001b[31mSample does not look Gaussian (reject H0)\u001b[0m\n"
     ]
    },
    {
     "data": {
      "image/png": "[encoded data removed]",
      "text/plain": [
       "<Figure size 700x500 with 1 Axes>"
      ]
     },
     "metadata": {},
     "output_type": "display_data"
    },
    {
     "name": "stdout",
     "output_type": "stream",
     "text": [
      "\n",
      "\n",
      "\n",
      "Distributions P\n",
      "Statistics=0.828, p=0.102\n",
      "\u001b[32mSample looks Gaussian (fail to reject H0)\u001b[0m\n"
     ]
    },
    {
     "data": {
      "image/png": "[encoded data removed]",
      "text/plain": [
       "<Figure size 700x500 with 1 Axes>"
      ]
     },
     "metadata": {},
     "output_type": "display_data"
    },
    {
     "name": "stdout",
     "output_type": "stream",
     "text": [
      "\n",
      "\n",
      "\n",
      "Distributions B\n",
      "Statistics=0.791, p=0.001\n",
      "\u001b[31mSample does not look Gaussian (reject H0)\u001b[0m\n"
     ]
    },
    {
     "data": {
      "image/png": "[encoded data removed]",
      "text/plain": [
       "<Figure size 700x500 with 1 Axes>"
      ]
     },
     "metadata": {},
     "output_type": "display_data"
    },
    {
     "name": "stdout",
     "output_type": "stream",
     "text": [
      "\n",
      "\n",
      "\n",
      "Distributions C\n",
      "Statistics=0.925, p=0.161\n",
      "\u001b[32mSample looks Gaussian (fail to reject H0)\u001b[0m\n"
     ]
    },
    {
     "data": {
      "image/png": "[encoded data removed]",
      "text/plain": [
       "<Figure size 700x500 with 1 Axes>"
      ]
     },
     "metadata": {},
     "output_type": "display_data"
    },
    {
     "name": "stdout",
     "output_type": "stream",
     "text": [
      "\n",
      "\n",
      "\n",
      "Distributions D\n",
      "Statistics=0.853, p=0.010\n",
      "\u001b[31mSample does not look Gaussian (reject H0)\u001b[0m\n"
     ]
    },
    {
     "data": {
      "image/png": "[encoded data removed]",
      "text/plain": [
       "<Figure size 700x500 with 1 Axes>"
      ]
     },
     "metadata": {},
     "output_type": "display_data"
    },
    {
     "name": "stdout",
     "output_type": "stream",
     "text": [
      "\n",
      "\n",
      "\n"
     ]
    }
   ],
   "source": [
    "plt.rcParams.update({'figure.figsize':(7,5), 'figure.dpi':100})\n",
    "for k, v in distributions_vgr.items():\n",
    "    print(f'Distributions {k}')\n",
    "    interpret_normaltest(v)\n",
    "    plt.hist(v, bins=7)\n",
    "    plt.gca().set(ylabel='Frequency')\n",
    "    plt.title(k)\n",
    "    plt.show()\n",
    "    print('\\n\\n')"
   ]
  },
  {
   "cell_type": "markdown",
   "id": "16d4c9be",
   "metadata": {},
   "source": [
    "## Comparison Scenarios"
   ]
  },
  {
   "cell_type": "code",
   "execution_count": 31,
   "id": "74d84a4a",
   "metadata": {},
   "outputs": [],
   "source": [
    "scenarios_vgr_inter_group = {\n",
    "'A-B': (distributions_vgr['A'], distributions_vgr['B']), \n",
    "'A-C': (distributions_vgr['A'], distributions_vgr['C']), \n",
    "'A-D': (distributions_vgr['A'], distributions_vgr['D']), \n",
    "'A-P': (distributions_vgr['A'], distributions_vgr['P']), \n",
    "'B-C': (distributions_vgr['B'], distributions_vgr['C']), \n",
    "'B-D': (distributions_vgr['B'], distributions_vgr['D']), \n",
    "'B-P': (distributions_vgr['B'], distributions_vgr['P']), \n",
    "'C-D': (distributions_vgr['C'], distributions_vgr['D']), \n",
    "'C-P': (distributions_vgr['C'], distributions_vgr['P']), \n",
    "'D-P': (distributions_vgr['D'], distributions_vgr['P']), \n",
    "}"
   ]
  },
  {
   "cell_type": "code",
   "execution_count": 32,
   "id": "43882d31-df1f-4b2c-8c18-eed08d2d8f8b",
   "metadata": {},
   "outputs": [],
   "source": [
    "intra_group_days = [(1,4) ,\n",
    "(1,8),\n",
    "(4,8)]\n"
   ]
  },
  {
   "cell_type": "code",
   "execution_count": 33,
   "id": "48748575-3c4e-49f2-8b5c-e4598feebda0",
   "metadata": {},
   "outputs": [],
   "source": [
    "scenarios_vgr_intra_groups = { f'{g}-{d[0]}-{d[1]}': \n",
    "                             (df_mean[(df_mean['Group'] == g) & (df_mean['Day'] == d[0])]['VGR'].values, \n",
    "                              df_mean[(df_mean['Group'] == g) & (df_mean['Day'] == d[1])]['VGR'].values)\n",
    "                              for g in distributions_vgr.keys() for d in intra_group_days}"
   ]
  },
  {
   "cell_type": "code",
   "execution_count": 34,
   "id": "69b5430c-dc7f-4d04-8241-c2c883994d3b",
   "metadata": {},
   "outputs": [],
   "source": [
    "scenarios_vg_inter_group = {\n",
    "'A-B': (distributions_vg['A'], distributions_vg['B']), \n",
    "'A-C': (distributions_vg['A'], distributions_vg['C']), \n",
    "'A-D': (distributions_vg['A'], distributions_vg['D']), \n",
    "'A-P': (distributions_vg['A'], distributions_vg['P']), \n",
    "'B-C': (distributions_vg['B'], distributions_vg['C']), \n",
    "'B-D': (distributions_vg['B'], distributions_vg['D']), \n",
    "'B-P': (distributions_vg['B'], distributions_vg['P']), \n",
    "'C-D': (distributions_vg['C'], distributions_vg['D']), \n",
    "'C-P': (distributions_vg['C'], distributions_vg['P']), \n",
    "'D-P': (distributions_vg['D'], distributions_vg['P']), \n",
    "}"
   ]
  },
  {
   "cell_type": "code",
   "execution_count": 35,
   "id": "51736426-9dab-43b4-be6d-b4d9969988e6",
   "metadata": {},
   "outputs": [],
   "source": [
    "scenarios_vg_intra_groups = { f'{g}-{d[0]}-{d[1]}': \n",
    "                             (df_mean[(df_mean['Group'] == g) & (df_mean['Day'] == d[0])]['VG'].values, \n",
    "                              df_mean[(df_mean['Group'] == g) & (df_mean['Day'] == d[1])]['VG'].values)\n",
    "                              for g in distributions_vgr.keys() for d in intra_group_days}"
   ]
  },
  {
   "cell_type": "code",
   "execution_count": 36,
   "id": "dcdecc99-159d-40ce-8873-50a190e5c24c",
   "metadata": {},
   "outputs": [
    {
     "data": {
      "text/plain": [
       "(array([0.02925851, 0.02664484, 0.00625402, 0.00652865, 0.01504054,\n",
       "        0.01372548, 0.01573368, 0.0147208 , 0.00772634, 0.00833848,\n",
       "        0.02020701, 0.02070323, 0.02696067, 0.03092677, 0.03624686,\n",
       "        0.03197305, 0.04316483, 0.04996286]),\n",
       " array([0.00965171, 0.00997823, 0.01477191, 0.02027717, 0.00253289,\n",
       "        0.00210057, 0.03920007, 0.04283696, 0.01966808, 0.01955932,\n",
       "        0.01033011, 0.01160588, 0.00997823, 0.00655131, 0.01292224,\n",
       "        0.01124946, 0.00119564, 0.00035868]))"
      ]
     },
     "execution_count": 36,
     "metadata": {},
     "output_type": "execute_result"
    }
   ],
   "source": [
    "scenarios_vg_inter_group['A-B']"
   ]
  },
  {
   "cell_type": "code",
   "execution_count": 37,
   "id": "89bcddf8-c1d3-468c-8db3-2945fc91878f",
   "metadata": {},
   "outputs": [
    {
     "data": {
      "text/plain": [
       "(array([28.589, 28.752, 30.028, 29.857, 28.405, 28.55 ]),\n",
       " array([28.237, 28.387, 28.316, 28.275, 28.57 , 28.553]))"
      ]
     },
     "execution_count": 37,
     "metadata": {},
     "output_type": "execute_result"
    }
   ],
   "source": [
    "scenarios_vg_intra_groups['A-1-4']"
   ]
  },
  {
   "cell_type": "code",
   "execution_count": 38,
   "id": "66fcea63-61cb-406e-a3aa-c316282e670f",
   "metadata": {},
   "outputs": [
    {
     "data": {
      "text/plain": [
       "(array([0.25278802, 0.24638733, 0.0522654 , 0.04581615, 0.17422215,\n",
       "        0.11296909, 0.09672281, 0.07531077, 0.04499785, 0.04703896,\n",
       "        0.28737371, 0.33425012, 0.93367994, 1.        , 0.50278029,\n",
       "        0.53625831, 0.50417623, 0.47896761]),\n",
       " array([0.06519929, 0.06820399, 0.14906361, 0.18582287, 0.03765538,\n",
       "        0.02259269, 0.57117312, 0.55903093, 0.17458482, 0.19614602,\n",
       "        0.13397168, 0.1320357 , 0.58156002, 0.54752624, 0.22877479,\n",
       "        0.23733553, 0.11218876, 0.09055888]))"
      ]
     },
     "execution_count": 38,
     "metadata": {},
     "output_type": "execute_result"
    }
   ],
   "source": [
    "scenarios_vgr_inter_group['A-B']"
   ]
  },
  {
   "cell_type": "code",
   "execution_count": 39,
   "id": "3163ac9c-efe8-4f1e-920a-10557f046072",
   "metadata": {},
   "outputs": [
    {
     "data": {
      "text/plain": [
       "(array([26.597, 26.662, 28.084, 28.165, 25.99 , 26.628]),\n",
       " array([26.736, 27.151, 26.893, 26.898, 25.859, 25.659]))"
      ]
     },
     "execution_count": 39,
     "metadata": {},
     "output_type": "execute_result"
    }
   ],
   "source": [
    "scenarios_vgr_intra_groups['A-1-4']"
   ]
  },
  {
   "cell_type": "markdown",
   "id": "04166015",
   "metadata": {},
   "source": [
    "### Statistical Tests VG\n"
   ]
  },
  {
   "cell_type": "markdown",
   "id": "17070117-67d5-4fb4-b2a4-716e3dbc782a",
   "metadata": {},
   "source": [
    "#### Inter Group VG"
   ]
  },
  {
   "cell_type": "code",
   "execution_count": 40,
   "id": "fc283eba",
   "metadata": {},
   "outputs": [
    {
     "name": "stdout",
     "output_type": "stream",
     "text": [
      "Scenario A-B\n",
      "Statistics=4.766, p=0.02902080\n",
      "\u001b[31mDifferent distributions (reject H0)\u001b[0m\n",
      "\n",
      "\n",
      "\n",
      "Scenario A-C\n",
      "Statistics=3.848, p=0.04980987\n",
      "\u001b[31mDifferent distributions (reject H0)\u001b[0m\n",
      "\n",
      "\n",
      "\n",
      "Scenario A-D\n",
      "Statistics=2.259, p=0.13285704\n",
      "\u001b[32mSame distributions (fail to reject H0)\u001b[0m\n",
      "\n",
      "\n",
      "\n",
      "Scenario A-P\n",
      "Statistics=nan, p=nan\n",
      "\u001b[31mDifferent distributions (reject H0)\u001b[0m\n",
      "\n",
      "\n",
      "\n",
      "Scenario B-C\n",
      "Statistics=0.121, p=0.72780489\n",
      "\u001b[32mSame distributions (fail to reject H0)\u001b[0m\n",
      "\n",
      "\n",
      "\n",
      "Scenario B-D\n",
      "Statistics=10.828, p=0.00099965\n",
      "\u001b[31mDifferent distributions (reject H0)\u001b[0m\n",
      "\n",
      "\n",
      "\n",
      "Scenario B-P\n",
      "Statistics=nan, p=nan\n",
      "\u001b[31mDifferent distributions (reject H0)\u001b[0m\n",
      "\n",
      "\n",
      "\n",
      "Scenario C-D\n",
      "Statistics=8.108, p=0.00440677\n",
      "\u001b[31mDifferent distributions (reject H0)\u001b[0m\n",
      "\n",
      "\n",
      "\n",
      "Scenario C-P\n",
      "Statistics=nan, p=nan\n",
      "\u001b[31mDifferent distributions (reject H0)\u001b[0m\n",
      "\n",
      "\n",
      "\n",
      "Scenario D-P\n",
      "Statistics=nan, p=nan\n",
      "\u001b[31mDifferent distributions (reject H0)\u001b[0m\n",
      "\n",
      "\n",
      "\n"
     ]
    }
   ],
   "source": [
    "for k, v in scenarios_vg_inter_group.items():\n",
    "    a, b = v\n",
    "    print(f'Scenario {k}')\n",
    "    interpret_kwtest(a,b)\n",
    "    print('\\n\\n')"
   ]
  },
  {
   "cell_type": "markdown",
   "id": "e76134b4-ce86-4e91-97d6-fede54148a0b",
   "metadata": {},
   "source": [
    "#### Intra Group VG"
   ]
  },
  {
   "cell_type": "code",
   "execution_count": 41,
   "id": "d1ba471f-0cd8-4362-9d73-9b2b001ff05f",
   "metadata": {},
   "outputs": [
    {
     "name": "stdout",
     "output_type": "stream",
     "text": [
      "Scenario A-1-4\n",
      "Statistics=5.026, p=0.02497468\n",
      "\u001b[31mDifferent distributions (reject H0)\u001b[0m\n",
      "\n",
      "\n",
      "\n",
      "Scenario A-1-8\n",
      "Statistics=8.308, p=0.00394775\n",
      "\u001b[31mDifferent distributions (reject H0)\u001b[0m\n",
      "\n",
      "\n",
      "\n",
      "Scenario A-4-8\n",
      "Statistics=8.308, p=0.00394775\n",
      "\u001b[31mDifferent distributions (reject H0)\u001b[0m\n",
      "\n",
      "\n",
      "\n",
      "Scenario P-1-4\n",
      "Statistics=nan, p=nan\n",
      "\u001b[31mDifferent distributions (reject H0)\u001b[0m\n",
      "\n",
      "\n",
      "\n",
      "Scenario P-1-8\n",
      "Statistics=nan, p=nan\n",
      "\u001b[31mDifferent distributions (reject H0)\u001b[0m\n",
      "\n",
      "\n",
      "\n",
      "Scenario P-4-8\n",
      "Statistics=nan, p=nan\n",
      "\u001b[31mDifferent distributions (reject H0)\u001b[0m\n",
      "\n",
      "\n",
      "\n",
      "Scenario B-1-4\n",
      "Statistics=5.026, p=0.02497468\n",
      "\u001b[31mDifferent distributions (reject H0)\u001b[0m\n",
      "\n",
      "\n",
      "\n",
      "Scenario B-1-8\n",
      "Statistics=1.641, p=0.20018480\n",
      "\u001b[32mSame distributions (fail to reject H0)\u001b[0m\n",
      "\n",
      "\n",
      "\n",
      "Scenario B-4-8\n",
      "Statistics=8.308, p=0.00394775\n",
      "\u001b[31mDifferent distributions (reject H0)\u001b[0m\n",
      "\n",
      "\n",
      "\n",
      "Scenario C-1-4\n",
      "Statistics=2.564, p=0.10931458\n",
      "\u001b[32mSame distributions (fail to reject H0)\u001b[0m\n",
      "\n",
      "\n",
      "\n",
      "Scenario C-1-8\n",
      "Statistics=0.103, p=0.74877404\n",
      "\u001b[32mSame distributions (fail to reject H0)\u001b[0m\n",
      "\n",
      "\n",
      "\n",
      "Scenario C-4-8\n",
      "Statistics=1.641, p=0.20018480\n",
      "\u001b[32mSame distributions (fail to reject H0)\u001b[0m\n",
      "\n",
      "\n",
      "\n",
      "Scenario D-1-4\n",
      "Statistics=5.026, p=0.02497468\n",
      "\u001b[31mDifferent distributions (reject H0)\u001b[0m\n",
      "\n",
      "\n",
      "\n",
      "Scenario D-1-8\n",
      "Statistics=0.923, p=0.33666837\n",
      "\u001b[32mSame distributions (fail to reject H0)\u001b[0m\n",
      "\n",
      "\n",
      "\n",
      "Scenario D-4-8\n",
      "Statistics=3.692, p=0.05466394\n",
      "\u001b[32mSame distributions (fail to reject H0)\u001b[0m\n",
      "\n",
      "\n",
      "\n"
     ]
    }
   ],
   "source": [
    "for k, v in scenarios_vg_intra_groups.items():\n",
    "    a, b = v\n",
    "    print(f'Scenario {k}')\n",
    "    interpret_kwtest(a,b)\n",
    "    print('\\n\\n')"
   ]
  },
  {
   "cell_type": "markdown",
   "id": "863a3ca8-05b8-4588-9560-c83392ecb071",
   "metadata": {},
   "source": [
    "### Statistical Tests VGR"
   ]
  },
  {
   "cell_type": "markdown",
   "id": "99028a3d-66ed-4910-b8f6-fbf864e7aa6d",
   "metadata": {},
   "source": [
    "#### Inter Group VGR"
   ]
  },
  {
   "cell_type": "code",
   "execution_count": 42,
   "id": "56a964b2-081d-4fc4-b7ae-38bb4bc0d7fd",
   "metadata": {},
   "outputs": [
    {
     "name": "stdout",
     "output_type": "stream",
     "text": [
      "Scenario A-B\n",
      "Statistics=0.324, p=0.56902040\n",
      "\u001b[32mSame distributions (fail to reject H0)\u001b[0m\n",
      "\n",
      "\n",
      "\n",
      "Scenario A-C\n",
      "Statistics=2.812, p=0.09357264\n",
      "\u001b[32mSame distributions (fail to reject H0)\u001b[0m\n",
      "\n",
      "\n",
      "\n",
      "Scenario A-D\n",
      "Statistics=0.463, p=0.49633119\n",
      "\u001b[32mSame distributions (fail to reject H0)\u001b[0m\n",
      "\n",
      "\n",
      "\n",
      "Scenario A-P\n",
      "Statistics=0.284, p=0.59380286\n",
      "\u001b[32mSame distributions (fail to reject H0)\u001b[0m\n",
      "\n",
      "\n",
      "\n",
      "Scenario B-C\n",
      "Statistics=5.046, p=0.02468220\n",
      "\u001b[31mDifferent distributions (reject H0)\u001b[0m\n",
      "\n",
      "\n",
      "\n",
      "Scenario B-D\n",
      "Statistics=5.481, p=0.01921896\n",
      "\u001b[31mDifferent distributions (reject H0)\u001b[0m\n",
      "\n",
      "\n",
      "\n",
      "Scenario B-P\n",
      "Statistics=0.071, p=0.78972582\n",
      "\u001b[32mSame distributions (fail to reject H0)\u001b[0m\n",
      "\n",
      "\n",
      "\n",
      "Scenario C-D\n",
      "Statistics=0.049, p=0.82472634\n",
      "\u001b[32mSame distributions (fail to reject H0)\u001b[0m\n",
      "\n",
      "\n",
      "\n",
      "Scenario C-P\n",
      "Statistics=4.840, p=0.02780690\n",
      "\u001b[31mDifferent distributions (reject H0)\u001b[0m\n",
      "\n",
      "\n",
      "\n",
      "Scenario D-P\n",
      "Statistics=2.351, p=0.12519375\n",
      "\u001b[32mSame distributions (fail to reject H0)\u001b[0m\n",
      "\n",
      "\n",
      "\n"
     ]
    }
   ],
   "source": [
    "for k, v in scenarios_vgr_inter_group.items():\n",
    "    a, b = v\n",
    "    print(f'Scenario {k}')\n",
    "    interpret_kwtest(a,b)\n",
    "    print('\\n\\n')"
   ]
  },
  {
   "cell_type": "markdown",
   "id": "441ed413-6b10-42d9-b7f2-12f4657639c2",
   "metadata": {},
   "source": [
    "#### Intra Group VGR"
   ]
  },
  {
   "cell_type": "code",
   "execution_count": 43,
   "id": "467167b3-8b95-4566-8b49-c13230fdabfa",
   "metadata": {},
   "outputs": [
    {
     "name": "stdout",
     "output_type": "stream",
     "text": [
      "Scenario A-1-4\n",
      "Statistics=0.103, p=0.74877404\n",
      "\u001b[32mSame distributions (fail to reject H0)\u001b[0m\n",
      "\n",
      "\n",
      "\n",
      "Scenario A-1-8\n",
      "Statistics=8.308, p=0.00394775\n",
      "\u001b[31mDifferent distributions (reject H0)\u001b[0m\n",
      "\n",
      "\n",
      "\n",
      "Scenario A-4-8\n",
      "Statistics=8.308, p=0.00394775\n",
      "\u001b[31mDifferent distributions (reject H0)\u001b[0m\n",
      "\n",
      "\n",
      "\n",
      "Scenario P-1-4\n",
      "Statistics=nan, p=nan\n",
      "\u001b[31mDifferent distributions (reject H0)\u001b[0m\n",
      "\n",
      "\n",
      "\n",
      "Scenario P-1-8\n",
      "Statistics=nan, p=nan\n",
      "\u001b[31mDifferent distributions (reject H0)\u001b[0m\n",
      "\n",
      "\n",
      "\n",
      "Scenario P-4-8\n",
      "Statistics=nan, p=nan\n",
      "\u001b[31mDifferent distributions (reject H0)\u001b[0m\n",
      "\n",
      "\n",
      "\n",
      "Scenario B-1-4\n",
      "Statistics=5.026, p=0.02497468\n",
      "\u001b[31mDifferent distributions (reject H0)\u001b[0m\n",
      "\n",
      "\n",
      "\n",
      "Scenario B-1-8\n",
      "Statistics=0.923, p=0.33666837\n",
      "\u001b[32mSame distributions (fail to reject H0)\u001b[0m\n",
      "\n",
      "\n",
      "\n",
      "Scenario B-4-8\n",
      "Statistics=5.026, p=0.02497468\n",
      "\u001b[31mDifferent distributions (reject H0)\u001b[0m\n",
      "\n",
      "\n",
      "\n",
      "Scenario C-1-4\n",
      "Statistics=0.923, p=0.33666837\n",
      "\u001b[32mSame distributions (fail to reject H0)\u001b[0m\n",
      "\n",
      "\n",
      "\n",
      "Scenario C-1-8\n",
      "Statistics=0.231, p=0.63095404\n",
      "\u001b[32mSame distributions (fail to reject H0)\u001b[0m\n",
      "\n",
      "\n",
      "\n",
      "Scenario C-4-8\n",
      "Statistics=0.641, p=0.42333964\n",
      "\u001b[32mSame distributions (fail to reject H0)\u001b[0m\n",
      "\n",
      "\n",
      "\n",
      "Scenario D-1-4\n",
      "Statistics=0.410, p=0.52183939\n",
      "\u001b[32mSame distributions (fail to reject H0)\u001b[0m\n",
      "\n",
      "\n",
      "\n",
      "Scenario D-1-8\n",
      "Statistics=2.564, p=0.10931458\n",
      "\u001b[32mSame distributions (fail to reject H0)\u001b[0m\n",
      "\n",
      "\n",
      "\n",
      "Scenario D-4-8\n",
      "Statistics=1.641, p=0.20018480\n",
      "\u001b[32mSame distributions (fail to reject H0)\u001b[0m\n",
      "\n",
      "\n",
      "\n"
     ]
    }
   ],
   "source": [
    "for k, v in scenarios_vgr_intra_groups.items():\n",
    "    a, b = v\n",
    "    print(f'Scenario {k}')\n",
    "    interpret_kwtest(a,b)\n",
    "    print('\\n\\n')"
   ]
  }
 ],
 "metadata": {
  "kernelspec": {
   "display_name": "Python 3 (ipykernel)",
   "language": "python",
   "name": "python3"
  },
  "language_info": {
   "codemirror_mode": {
    "name": "ipython",
    "version": 3
   },
   "file_extension": ".py",
   "mimetype": "text/x-python",
   "name": "python",
   "nbconvert_exporter": "python",
   "pygments_lexer": "ipython3",
   "version": "3.10.10"
  }
 },
 "nbformat": 4,
 "nbformat_minor": 5
}
