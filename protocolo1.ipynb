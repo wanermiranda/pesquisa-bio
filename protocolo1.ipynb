{
 "cells": [
  {
   "cell_type": "markdown",
   "id": "c51c919e",
   "metadata": {},
   "source": [
    "# Installing packages"
   ]
  },
  {
   "cell_type": "code",
   "execution_count": 1,
   "id": "f4515a7d",
   "metadata": {},
   "outputs": [
    {
     "name": "stdout",
     "output_type": "stream",
     "text": [
      "Requirement already satisfied: matplotlib in /home/gorigan/miniconda3/envs/pesquisa-bio/lib/python3.8/site-packages (3.5.1)\n",
      "Requirement already satisfied: pandas in /home/gorigan/miniconda3/envs/pesquisa-bio/lib/python3.8/site-packages (1.4.2)\n",
      "Requirement already satisfied: numpy in /home/gorigan/miniconda3/envs/pesquisa-bio/lib/python3.8/site-packages (1.22.3)\n",
      "Requirement already satisfied: statsmodels in /home/gorigan/miniconda3/envs/pesquisa-bio/lib/python3.8/site-packages (0.13.2)\n",
      "Requirement already satisfied: scipy in /home/gorigan/miniconda3/envs/pesquisa-bio/lib/python3.8/site-packages (1.8.0)\n",
      "Requirement already satisfied: sklearn in /home/gorigan/miniconda3/envs/pesquisa-bio/lib/python3.8/site-packages (0.0)\n",
      "Requirement already satisfied: nbconvert in /home/gorigan/miniconda3/envs/pesquisa-bio/lib/python3.8/site-packages (6.5.0)\n",
      "Requirement already satisfied: kiwisolver>=1.0.1 in /home/gorigan/miniconda3/envs/pesquisa-bio/lib/python3.8/site-packages (from matplotlib) (1.4.2)\n",
      "Requirement already satisfied: cycler>=0.10 in /home/gorigan/miniconda3/envs/pesquisa-bio/lib/python3.8/site-packages (from matplotlib) (0.11.0)\n",
      "Requirement already satisfied: pillow>=6.2.0 in /home/gorigan/miniconda3/envs/pesquisa-bio/lib/python3.8/site-packages (from matplotlib) (9.1.0)\n",
      "Requirement already satisfied: python-dateutil>=2.7 in /home/gorigan/miniconda3/envs/pesquisa-bio/lib/python3.8/site-packages (from matplotlib) (2.8.2)\n",
      "Requirement already satisfied: pyparsing>=2.2.1 in /home/gorigan/miniconda3/envs/pesquisa-bio/lib/python3.8/site-packages (from matplotlib) (3.0.8)\n",
      "Requirement already satisfied: packaging>=20.0 in /home/gorigan/miniconda3/envs/pesquisa-bio/lib/python3.8/site-packages (from matplotlib) (21.3)\n",
      "Requirement already satisfied: fonttools>=4.22.0 in /home/gorigan/miniconda3/envs/pesquisa-bio/lib/python3.8/site-packages (from matplotlib) (4.32.0)\n",
      "Requirement already satisfied: pytz>=2020.1 in /home/gorigan/miniconda3/envs/pesquisa-bio/lib/python3.8/site-packages (from pandas) (2022.1)\n",
      "Requirement already satisfied: patsy>=0.5.2 in /home/gorigan/miniconda3/envs/pesquisa-bio/lib/python3.8/site-packages (from statsmodels) (0.5.2)\n",
      "Requirement already satisfied: scikit-learn in /home/gorigan/miniconda3/envs/pesquisa-bio/lib/python3.8/site-packages (from sklearn) (1.0.2)\n",
      "Requirement already satisfied: beautifulsoup4 in /home/gorigan/miniconda3/envs/pesquisa-bio/lib/python3.8/site-packages (from nbconvert) (4.11.1)\n",
      "Requirement already satisfied: jupyter-core>=4.7 in /home/gorigan/miniconda3/envs/pesquisa-bio/lib/python3.8/site-packages (from nbconvert) (4.9.2)\n",
      "Requirement already satisfied: pygments>=2.4.1 in /home/gorigan/miniconda3/envs/pesquisa-bio/lib/python3.8/site-packages (from nbconvert) (2.11.2)\n",
      "Requirement already satisfied: tinycss2 in /home/gorigan/miniconda3/envs/pesquisa-bio/lib/python3.8/site-packages (from nbconvert) (1.1.1)\n",
      "Requirement already satisfied: traitlets>=5.0 in /home/gorigan/miniconda3/envs/pesquisa-bio/lib/python3.8/site-packages (from nbconvert) (5.1.1)\n",
      "Requirement already satisfied: nbformat>=5.1 in /home/gorigan/miniconda3/envs/pesquisa-bio/lib/python3.8/site-packages (from nbconvert) (5.3.0)\n",
      "Requirement already satisfied: nbclient>=0.5.0 in /home/gorigan/miniconda3/envs/pesquisa-bio/lib/python3.8/site-packages (from nbconvert) (0.6.0)\n",
      "Requirement already satisfied: mistune<2,>=0.8.1 in /home/gorigan/miniconda3/envs/pesquisa-bio/lib/python3.8/site-packages (from nbconvert) (0.8.4)\n",
      "Requirement already satisfied: entrypoints>=0.2.2 in /home/gorigan/miniconda3/envs/pesquisa-bio/lib/python3.8/site-packages (from nbconvert) (0.4)\n",
      "Requirement already satisfied: jupyterlab-pygments in /home/gorigan/miniconda3/envs/pesquisa-bio/lib/python3.8/site-packages (from nbconvert) (0.2.1)\n",
      "Requirement already satisfied: defusedxml in /home/gorigan/miniconda3/envs/pesquisa-bio/lib/python3.8/site-packages (from nbconvert) (0.7.1)\n",
      "Requirement already satisfied: bleach in /home/gorigan/miniconda3/envs/pesquisa-bio/lib/python3.8/site-packages (from nbconvert) (5.0.0)\n",
      "Requirement already satisfied: jinja2>=3.0 in /home/gorigan/miniconda3/envs/pesquisa-bio/lib/python3.8/site-packages (from nbconvert) (3.1.1)\n",
      "Requirement already satisfied: MarkupSafe>=2.0 in /home/gorigan/miniconda3/envs/pesquisa-bio/lib/python3.8/site-packages (from nbconvert) (2.1.1)\n",
      "Requirement already satisfied: pandocfilters>=1.4.1 in /home/gorigan/miniconda3/envs/pesquisa-bio/lib/python3.8/site-packages (from nbconvert) (1.5.0)\n",
      "Requirement already satisfied: jupyter-client>=6.1.5 in /home/gorigan/miniconda3/envs/pesquisa-bio/lib/python3.8/site-packages (from nbclient>=0.5.0->nbconvert) (7.2.2)\n",
      "Requirement already satisfied: nest-asyncio in /home/gorigan/miniconda3/envs/pesquisa-bio/lib/python3.8/site-packages (from nbclient>=0.5.0->nbconvert) (1.5.5)\n",
      "Requirement already satisfied: tornado>=6.0 in /home/gorigan/miniconda3/envs/pesquisa-bio/lib/python3.8/site-packages (from jupyter-client>=6.1.5->nbclient>=0.5.0->nbconvert) (6.1)\n",
      "Requirement already satisfied: pyzmq>=22.3 in /home/gorigan/miniconda3/envs/pesquisa-bio/lib/python3.8/site-packages (from jupyter-client>=6.1.5->nbclient>=0.5.0->nbconvert) (22.3.0)\n",
      "Requirement already satisfied: jsonschema>=2.6 in /home/gorigan/miniconda3/envs/pesquisa-bio/lib/python3.8/site-packages (from nbformat>=5.1->nbconvert) (4.4.0)\n",
      "Requirement already satisfied: fastjsonschema in /home/gorigan/miniconda3/envs/pesquisa-bio/lib/python3.8/site-packages (from nbformat>=5.1->nbconvert) (2.15.3)\n",
      "Requirement already satisfied: pyrsistent!=0.17.0,!=0.17.1,!=0.17.2,>=0.14.0 in /home/gorigan/miniconda3/envs/pesquisa-bio/lib/python3.8/site-packages (from jsonschema>=2.6->nbformat>=5.1->nbconvert) (0.18.1)\n",
      "Requirement already satisfied: attrs>=17.4.0 in /home/gorigan/miniconda3/envs/pesquisa-bio/lib/python3.8/site-packages (from jsonschema>=2.6->nbformat>=5.1->nbconvert) (21.4.0)\n",
      "Requirement already satisfied: importlib-resources>=1.4.0 in /home/gorigan/miniconda3/envs/pesquisa-bio/lib/python3.8/site-packages (from jsonschema>=2.6->nbformat>=5.1->nbconvert) (5.7.0)\n",
      "Requirement already satisfied: zipp>=3.1.0 in /home/gorigan/miniconda3/envs/pesquisa-bio/lib/python3.8/site-packages (from importlib-resources>=1.4.0->jsonschema>=2.6->nbformat>=5.1->nbconvert) (3.8.0)\n",
      "Requirement already satisfied: six in /home/gorigan/miniconda3/envs/pesquisa-bio/lib/python3.8/site-packages (from patsy>=0.5.2->statsmodels) (1.16.0)\n",
      "Requirement already satisfied: soupsieve>1.2 in /home/gorigan/miniconda3/envs/pesquisa-bio/lib/python3.8/site-packages (from beautifulsoup4->nbconvert) (2.3.2)\n",
      "Requirement already satisfied: webencodings in /home/gorigan/miniconda3/envs/pesquisa-bio/lib/python3.8/site-packages (from bleach->nbconvert) (0.5.1)\n",
      "Requirement already satisfied: threadpoolctl>=2.0.0 in /home/gorigan/miniconda3/envs/pesquisa-bio/lib/python3.8/site-packages (from scikit-learn->sklearn) (3.1.0)\n",
      "Requirement already satisfied: joblib>=0.11 in /home/gorigan/miniconda3/envs/pesquisa-bio/lib/python3.8/site-packages (from scikit-learn->sklearn) (1.1.0)\n",
      "Note: you may need to restart the kernel to use updated packages.\n"
     ]
    }
   ],
   "source": [
    "pip install matplotlib pandas numpy statsmodels scipy sklearn nbconvert"
   ]
  },
  {
   "cell_type": "markdown",
   "id": "775fb997",
   "metadata": {},
   "source": [
    "# Importing Libraries"
   ]
  },
  {
   "cell_type": "code",
   "execution_count": 2,
   "id": "8fb76318",
   "metadata": {},
   "outputs": [],
   "source": [
    "%matplotlib inline\n",
    "import pandas as pd\n",
    "import matplotlib.pyplot as plt\n",
    "import numpy as np\n",
    "from numpy.random import seed\n",
    "from numpy.random import randn\n",
    "from statsmodels.graphics.gofplots import qqplot\n",
    "import numpy as np\n",
    "from scipy import stats\n",
    "from math import sqrt\n",
    "from numpy.random import seed\n",
    "from numpy.random import randn\n",
    "from numpy import mean\n",
    "from scipy.stats import sem\n",
    "from scipy.stats import t"
   ]
  },
  {
   "cell_type": "code",
   "execution_count": 3,
   "id": "d7b17904",
   "metadata": {},
   "outputs": [],
   "source": [
    "# function for calculating the t-test for two independent samples\n",
    "def independent_ttest(data1, data2, alpha):\n",
    " # calculate means\n",
    " mean1, mean2 = mean(data1), mean(data2)\n",
    " # calculate standard errors\n",
    " se1, se2 = sem(data1), sem(data2)\n",
    " # standard error on the difference between the samples\n",
    " sed = sqrt(se1**2.0 + se2**2.0)\n",
    " # calculate the t statistic\n",
    " t_stat = (mean1 - mean2) / sed\n",
    " # degrees of freedom\n",
    " df = len(data1) + len(data2) - 2\n",
    " # calculate the critical value\n",
    " cv = t.ppf(1.0 - alpha, df)\n",
    " # calculate the p-value\n",
    " p = (1.0 - t.cdf(abs(t_stat), df)) * 2.0\n",
    " # return everything\n",
    " return t_stat, df, cv, p"
   ]
  },
  {
   "cell_type": "markdown",
   "id": "4f1df9c6",
   "metadata": {},
   "source": [
    "## Toy Samples"
   ]
  },
  {
   "cell_type": "code",
   "execution_count": 4,
   "id": "3dd20a6f",
   "metadata": {},
   "outputs": [],
   "source": [
    "mu2, sigma2 = 25, 5 # mean and standard deviation\n",
    "s2 = np.random.normal(mu2, sigma2, 5000)\n",
    "mu, sigma = 30, 5 # mean and standard deviation\n",
    "s = np.random.normal(mu, sigma, 5000)\n",
    "zz = [0,0,0,0,0,0,0,0,0,0,0,0,0,0,0,0,0,0,0,0]"
   ]
  },
  {
   "cell_type": "markdown",
   "id": "934bf6a1",
   "metadata": {},
   "source": [
    "# Population"
   ]
  },
  {
   "cell_type": "markdown",
   "id": "c42a80b5",
   "metadata": {},
   "source": [
    "Each distribution is a total of eggs layed during 10 days for each female individual"
   ]
  },
  {
   "cell_type": "code",
   "execution_count": 5,
   "id": "b067989d",
   "metadata": {},
   "outputs": [],
   "source": [
    "F= [3,0,5,2,3,8,1,6,3,5,5,2,0,6,2,2,4,3,3,3]\n",
    "FM= [3,5,2,1,0,1,4,8,4,4,2,2,4,3,2,2,2,2,4,4]\n",
    "FH= [3,2,5,1,3,1,7,4,4,10,7,2,5,4,10,2,2,8,4,7]\n",
    "FMH= [45,42,34, 41,32,36,35,17,32,32,25,32,30,31,36,32,41,23,31,41]"
   ]
  },
  {
   "cell_type": "markdown",
   "id": "8ecf471f",
   "metadata": {},
   "source": [
    "## Sanity Test"
   ]
  },
  {
   "cell_type": "code",
   "execution_count": 6,
   "id": "0106a3c5",
   "metadata": {},
   "outputs": [],
   "source": [
    "def interpret_ttest(a, b, alpha=0.05):\n",
    "    t_stat, df, cv, p = independent_ttest(a, b, alpha)\n",
    "    print('t=%.3f, df=%d, cv=%.5f, p=%.8f' % (t_stat, df, cv, p))\n",
    "#     # interpret via critical value\n",
    "#     if abs(t_stat) <= cv:\n",
    "#         print('Accept null hypothesis (Same distributions).')\n",
    "#     else:\n",
    "#         print('Reject the null hypothesis (Different distributions).')\n",
    "    # interpret via p-value\n",
    "    if p > alpha:\n",
    "        print('Accept null hypothesis (Same distributins).')\n",
    "    else:\n",
    "        print('Reject the null hypothesis (Different distributions).')"
   ]
  },
  {
   "cell_type": "code",
   "execution_count": 7,
   "id": "c37f28cf",
   "metadata": {},
   "outputs": [
    {
     "name": "stdout",
     "output_type": "stream",
     "text": [
      "t=48.100, df=9998, cv=1.64501, p=0.00000000\n",
      "Reject the null hypothesis (Different distributions).\n"
     ]
    }
   ],
   "source": [
    "interpret_ttest(s,s2)"
   ]
  },
  {
   "cell_type": "code",
   "execution_count": 8,
   "id": "00028758",
   "metadata": {},
   "outputs": [],
   "source": [
    "def interpret_kwtest(a, b, alpha = 0.05):\n",
    "    stat, p = stats.kruskal(a, b)\n",
    "    print('Statistics=%.3f, p=%.8f' % (stat, p))\n",
    "    # interpret\n",
    "\n",
    "    if p > alpha:\n",
    "        print('Same distributions (fail to reject H0)')\n",
    "    else:\n",
    "        print('Different distributions (reject H0)')"
   ]
  },
  {
   "cell_type": "code",
   "execution_count": 9,
   "id": "1d8b0503",
   "metadata": {},
   "outputs": [
    {
     "name": "stdout",
     "output_type": "stream",
     "text": [
      "Statistics=1889.883, p=0.00000000\n",
      "Different distributions (reject H0)\n"
     ]
    }
   ],
   "source": [
    "interpret_kwtest(s,s2)"
   ]
  },
  {
   "cell_type": "code",
   "execution_count": 10,
   "id": "7d09760b",
   "metadata": {},
   "outputs": [],
   "source": [
    "# D'Agostino and Pearson's Test\n",
    "from scipy.stats import normaltest\n",
    "# normality test\n",
    "# interpret results\n",
    "def interpret_normaltest(data, alpha=0.05):\n",
    "    stat, p = normaltest(data)\n",
    "    print('Statistics=%.3f, p=%.3f' % (stat, p))\n",
    "\n",
    "    if p > alpha:\n",
    "        print('Sample looks Gaussian (fail to reject H0)')\n",
    "    else:\n",
    "        print('Sample does not look Gaussian (reject H0)')\n",
    "\n"
   ]
  },
  {
   "cell_type": "code",
   "execution_count": 11,
   "id": "516e5186",
   "metadata": {},
   "outputs": [
    {
     "name": "stdout",
     "output_type": "stream",
     "text": [
      "Statistics=0.871, p=0.647\n",
      "Sample looks Gaussian (fail to reject H0)\n"
     ]
    }
   ],
   "source": [
    "interpret_normaltest(s)"
   ]
  },
  {
   "cell_type": "code",
   "execution_count": 12,
   "id": "e88647b7",
   "metadata": {},
   "outputs": [
    {
     "name": "stdout",
     "output_type": "stream",
     "text": [
      "Statistics=0.842, p=0.656\n",
      "Sample looks Gaussian (fail to reject H0)\n"
     ]
    }
   ],
   "source": [
    "interpret_normaltest(s2)"
   ]
  },
  {
   "cell_type": "code",
   "execution_count": 13,
   "id": "4552def8",
   "metadata": {},
   "outputs": [
    {
     "name": "stdout",
     "output_type": "stream",
     "text": [
      "Statistics=466.626, p=0.000\n",
      "Sample does not look Gaussian (reject H0)\n"
     ]
    }
   ],
   "source": [
    "interpret_normaltest(zz)"
   ]
  },
  {
   "cell_type": "markdown",
   "id": "6f110b45",
   "metadata": {},
   "source": [
    "## Normality Tests"
   ]
  },
  {
   "cell_type": "code",
   "execution_count": 14,
   "id": "01002425",
   "metadata": {},
   "outputs": [],
   "source": [
    "distributions = {\n",
    " 'F': F,\n",
    " 'FH': FH,\n",
    " 'FMH': FMH,\n",
    " 'FM': FM,\n",
    "}"
   ]
  },
  {
   "cell_type": "code",
   "execution_count": 15,
   "id": "555e272c",
   "metadata": {},
   "outputs": [
    {
     "name": "stdout",
     "output_type": "stream",
     "text": [
      "Distributions F\n",
      "Statistics=0.920, p=0.631\n",
      "Sample looks Gaussian (fail to reject H0)\n",
      "\n",
      "\n",
      "\n",
      "Distributions FH\n",
      "Statistics=1.946, p=0.378\n",
      "Sample looks Gaussian (fail to reject H0)\n",
      "\n",
      "\n",
      "\n",
      "Distributions FMH\n",
      "Statistics=1.675, p=0.433\n",
      "Sample looks Gaussian (fail to reject H0)\n",
      "\n",
      "\n",
      "\n",
      "Distributions FM\n",
      "Statistics=7.643, p=0.022\n",
      "Sample does not look Gaussian (reject H0)\n",
      "\n",
      "\n",
      "\n"
     ]
    }
   ],
   "source": [
    "for k, v in distributions.items():\n",
    "    print(f'Distributions {k}')\n",
    "    interpret_normaltest(v)\n",
    "    print('\\n\\n')"
   ]
  },
  {
   "cell_type": "markdown",
   "id": "79410e18",
   "metadata": {},
   "source": [
    "## Comparison Scenarios"
   ]
  },
  {
   "cell_type": "code",
   "execution_count": 16,
   "id": "d24348ce",
   "metadata": {},
   "outputs": [],
   "source": [
    "\n",
    "scenarios_gauss = {\n",
    " 'F-FH': (F,FH),\n",
    " 'F-FMH': (F, FMH),\n",
    " 'FH-FMH': (FH, FMH),\n",
    "\n",
    "}\n",
    "\n",
    "\n",
    "scenarios_non_parametric = {\n",
    " 'F-FM': (F, FM),\n",
    " 'FH-FM': (FH, FM),\n",
    " 'FM-FMH': (FM, FMH),\n",
    "}"
   ]
  },
  {
   "cell_type": "markdown",
   "id": "26c23ce0",
   "metadata": {},
   "source": [
    "### Comparison for gaussian distributions - T-Test"
   ]
  },
  {
   "cell_type": "code",
   "execution_count": 17,
   "id": "fce17044",
   "metadata": {},
   "outputs": [
    {
     "name": "stdout",
     "output_type": "stream",
     "text": [
      "Scenario F-FH\n",
      "t=-1.617, df=38, cv=1.68595, p=0.11420297\n",
      "Accept null hypothesis (Same distributins).\n",
      "\n",
      "\n",
      "\n",
      "Scenario F-FMH\n",
      "t=-18.947, df=38, cv=1.68595, p=0.00000000\n",
      "Reject the null hypothesis (Different distributions).\n",
      "\n",
      "\n",
      "\n",
      "Scenario FH-FMH\n",
      "t=-17.560, df=38, cv=1.68595, p=0.00000000\n",
      "Reject the null hypothesis (Different distributions).\n",
      "\n",
      "\n",
      "\n"
     ]
    }
   ],
   "source": [
    "for k, v in scenarios_gauss.items():\n",
    "    a, b = v\n",
    "    print(f'Scenario {k}')\n",
    "    interpret_ttest(a,b)\n",
    "    print('\\n\\n')"
   ]
  },
  {
   "cell_type": "markdown",
   "id": "e9503f0b",
   "metadata": {},
   "source": [
    "### Non parametric test using KW-Test"
   ]
  },
  {
   "cell_type": "code",
   "execution_count": 18,
   "id": "052de865",
   "metadata": {},
   "outputs": [
    {
     "name": "stdout",
     "output_type": "stream",
     "text": [
      "Scenario F-FM\n",
      "Statistics=0.401, p=0.52637675\n",
      "Same distributions (fail to reject H0)\n",
      "\n",
      "\n",
      "\n",
      "Scenario FH-FM\n",
      "Statistics=3.266, p=0.07071398\n",
      "Same distributions (fail to reject H0)\n",
      "\n",
      "\n",
      "\n",
      "Scenario FM-FMH\n",
      "Statistics=29.599, p=0.00000005\n",
      "Different distributions (reject H0)\n",
      "\n",
      "\n",
      "\n"
     ]
    }
   ],
   "source": [
    "for k, v in scenarios_non_parametric.items():\n",
    "    a, b = v\n",
    "    print(f'Scenario {k}')\n",
    "    interpret_kwtest(a,b)\n",
    "    print('\\n\\n')"
   ]
  }
 ],
 "metadata": {
  "kernelspec": {
   "display_name": "Python 3 (ipykernel)",
   "language": "python",
   "name": "python3"
  },
  "language_info": {
   "codemirror_mode": {
    "name": "ipython",
    "version": 3
   },
   "file_extension": ".py",
   "mimetype": "text/x-python",
   "name": "python",
   "nbconvert_exporter": "python",
   "pygments_lexer": "ipython3",
   "version": "3.8.13"
  }
 },
 "nbformat": 4,
 "nbformat_minor": 5
}
