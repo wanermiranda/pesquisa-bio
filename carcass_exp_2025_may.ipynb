{
 "cells": [
  {
   "cell_type": "markdown",
   "id": "9c13aebc",
   "metadata": {},
   "source": [
    "# Installing packages"
   ]
  },
  {
   "cell_type": "markdown",
   "id": "c005ebd7",
   "metadata": {},
   "source": [
    "# Importing Libraries"
   ]
  },
  {
   "cell_type": "code",
   "execution_count": 1,
   "id": "fc5e2828",
   "metadata": {},
   "outputs": [],
   "source": [
    "%matplotlib inline\n",
    "import pandas as pd\n",
    "import matplotlib.pyplot as plt\n",
    "import numpy as np\n",
    "from numpy.random import seed\n",
    "from numpy.random import randn\n",
    "import numpy as np\n",
    "from scipy import stats\n",
    "from math import sqrt\n",
    "from numpy.random import seed\n",
    "from numpy.random import randn\n",
    "from numpy import mean\n",
    "from scipy.stats import sem\n",
    "from scipy.stats import t\n",
    "from termcolor import colored"
   ]
  },
  {
   "cell_type": "code",
   "execution_count": 2,
   "id": "c80b46c3",
   "metadata": {},
   "outputs": [],
   "source": [
    "# function for calculating the t-test for two independent samples\n",
    "def independent_ttest(data1, data2, alpha):\n",
    " # calculate means\n",
    " mean1, mean2 = mean(data1), mean(data2)\n",
    " # calculate standard errors\n",
    " se1, se2 = sem(data1), sem(data2)\n",
    " # standard error on the difference between the samples\n",
    " sed = sqrt(se1**2.0 + se2**2.0)\n",
    " # calculate the t statistic\n",
    " t_stat = (mean1 - mean2) / sed\n",
    " # degrees of freedom\n",
    " df = len(data1) + len(data2) - 2\n",
    " # calculate the critical value\n",
    " cv = t.ppf(1.0 - alpha, df)\n",
    " # calculate the p-value\n",
    " p = (1.0 - t.cdf(abs(t_stat), df)) * 2.0\n",
    " # return everything\n",
    " return t_stat, df, cv, p"
   ]
  },
  {
   "cell_type": "markdown",
   "id": "a19018ac",
   "metadata": {},
   "source": [
    "## Toy Samples"
   ]
  },
  {
   "cell_type": "code",
   "execution_count": 3,
   "id": "555809b8",
   "metadata": {},
   "outputs": [],
   "source": [
    "mu2, sigma2 = 25, 5 # mean and standard deviation\n",
    "s2 = np.random.normal(mu2, sigma2, 5000)\n",
    "mu, sigma = 30, 5 # mean and standard deviation\n",
    "s = np.random.normal(mu, sigma, 5000)\n",
    "zz = [0,0,0,0,0,0,0,1,0,0,0,0,0,0,0,0,0,0,0,0]"
   ]
  },
  {
   "cell_type": "markdown",
   "id": "1152e873",
   "metadata": {},
   "source": [
    "# Population"
   ]
  },
  {
   "cell_type": "code",
   "execution_count": null,
   "id": "c51c5160-a65b-4d90-84a2-723e64a0f730",
   "metadata": {},
   "outputs": [],
   "source": [
    "df = pd.read_excel('carcass_2025_may.xlsx')\n",
    "df['Group'] = df['Amostra'].apply(lambda x: x[0])\n",
    "df['Day'] = df['Amostra'].apply(lambda x: int(x[1]) if x[1] != 'u' else 0)\n",
    "df.head()"
   ]
  },
  {
   "cell_type": "code",
   "execution_count": 5,
   "id": "e5ad091a",
   "metadata": {},
   "outputs": [],
   "source": [
    "df.columns = df.columns.str.strip()"
   ]
  },
  {
   "cell_type": "code",
   "execution_count": null,
   "id": "33a41beb-8345-474e-b21f-949c27efd4ce",
   "metadata": {},
   "outputs": [],
   "source": [
    "df[df['VG'].isna()]"
   ]
  },
  {
   "cell_type": "code",
   "execution_count": 7,
   "id": "199ffa03-51b0-4d01-be3b-e635fdb4b53c",
   "metadata": {},
   "outputs": [],
   "source": [
    "# df[df['Amostra'] == 'Pu-1']['VG'].mean() "
   ]
  },
  {
   "cell_type": "code",
   "execution_count": 8,
   "id": "d9a825a7-5a70-4d12-9472-2ef029c731a0",
   "metadata": {},
   "outputs": [],
   "source": [
    "# df[df['Amostra'] == 'Pu-1']['VG'] = df[df['Amostra'] == 'Pu-1']['VG'].mean() "
   ]
  },
  {
   "cell_type": "code",
   "execution_count": null,
   "id": "70685a77-999f-49f7-90ec-3c00bad44e0a",
   "metadata": {},
   "outputs": [],
   "source": [
    "df.describe()"
   ]
  },
  {
   "cell_type": "code",
   "execution_count": 10,
   "id": "e8b0723a",
   "metadata": {},
   "outputs": [],
   "source": [
    "df_backup = df.copy()"
   ]
  },
  {
   "cell_type": "code",
   "execution_count": null,
   "id": "8be02f79",
   "metadata": {},
   "outputs": [],
   "source": [
    "df.head()"
   ]
  },
  {
   "cell_type": "code",
   "execution_count": 12,
   "id": "ba3e53cc-552c-4d61-ae1e-fb5afa883283",
   "metadata": {},
   "outputs": [],
   "source": [
    "df = df.groupby(['Amostra', 'Group', 'Day']).mean().reset_index()"
   ]
  },
  {
   "cell_type": "code",
   "execution_count": null,
   "id": "e74a9f62-c24d-46a3-aafc-b4ab861572b9",
   "metadata": {},
   "outputs": [],
   "source": [
    "df"
   ]
  },
  {
   "cell_type": "markdown",
   "id": "77e22aea",
   "metadata": {},
   "source": [
    "Each distribution is a total of eggs layed during 10 days for each female individual"
   ]
  },
  {
   "cell_type": "code",
   "execution_count": null,
   "id": "1f38408f-d454-42ab-9e53-f4cc1063c518",
   "metadata": {},
   "outputs": [],
   "source": [
    "df['DCT_VG'] =  df['VG'] - df['RPL32']\n",
    "df['DCT_VGR'] =  df['VGR'] - df['RPL32']\n",
    "df.head()"
   ]
  },
  {
   "cell_type": "code",
   "execution_count": null,
   "id": "4b8464c6-7984-4845-964f-1a36ba9afe9c",
   "metadata": {},
   "outputs": [],
   "source": [
    "df['DDCT_VG'] =  df['DCT_VG'] - df['DCT_VG'].min() \n",
    "df['DDCT_VGR'] =  df['DCT_VGR'] - df['DCT_VGR'].min()\n",
    "df.head()"
   ]
  },
  {
   "cell_type": "code",
   "execution_count": null,
   "id": "f0aec696-3cc4-48c5-be05-6a4cb986db56",
   "metadata": {},
   "outputs": [],
   "source": [
    "df['EXP_DDCT_VG'] =  df['DDCT_VG'].apply(lambda x: 2**(-x)) \n",
    "df['EXP_DDCT_VGR'] =  df['DDCT_VGR'].apply(lambda x: 2**(-x)) \n",
    "df.head()"
   ]
  },
  {
   "cell_type": "markdown",
   "id": "ddad511c",
   "metadata": {},
   "source": [
    "## Sanity Test"
   ]
  },
  {
   "cell_type": "code",
   "execution_count": 17,
   "id": "a4cfde8e",
   "metadata": {},
   "outputs": [],
   "source": [
    "def interpret_ttest(a, b, alpha=0.05):\n",
    "    t_stat, df, cv, p = independent_ttest(a, b, alpha)\n",
    "    print('t=%.3f, df=%d, cv=%.5f, p=%.8f' % (t_stat, df, cv, p))\n",
    "#     # interpret via critical value\n",
    "#     if abs(t_stat) <= cv:\n",
    "#         print('Accept null hypothesis (Same distributions).')\n",
    "#     else:\n",
    "#         print('Reject the null hypothesis (Different distributions).')\n",
    "    # interpret via p-value\n",
    "    if p > alpha:\n",
    "        print(colored('Accept null hypothesis (Same distributions).', 'green'))\n",
    "    else:\n",
    "        print(colored('Reject the null hypothesis (Different distributions).', 'red'))"
   ]
  },
  {
   "cell_type": "code",
   "execution_count": null,
   "id": "4fa3336f",
   "metadata": {},
   "outputs": [],
   "source": [
    "interpret_ttest(s,s2)"
   ]
  },
  {
   "cell_type": "code",
   "execution_count": 19,
   "id": "273f9c97",
   "metadata": {},
   "outputs": [],
   "source": [
    "def interpret_kwtest(a, b, alpha = 0.05):\n",
    "    stat, p = stats.kruskal(a, b)\n",
    "    print('Statistics=%.3f, p=%.8f' % (stat, p))\n",
    "    # interpret\n",
    "\n",
    "    if p > alpha:\n",
    "        print(colored('Same distributions (fail to reject H0)', 'green'))\n",
    "    else:\n",
    "        print(colored('Different distributions (reject H0)', 'red'))"
   ]
  },
  {
   "cell_type": "code",
   "execution_count": null,
   "id": "9f9497b6",
   "metadata": {},
   "outputs": [],
   "source": [
    "interpret_kwtest(s,s2)"
   ]
  },
  {
   "cell_type": "code",
   "execution_count": 21,
   "id": "a9bc3179",
   "metadata": {},
   "outputs": [],
   "source": [
    "from scipy.stats import shapiro\n",
    "# normality test\n",
    "# interpret results\n",
    "def interpret_normaltest(data, alpha=0.05):\n",
    "    stat, p = shapiro(data)\n",
    "    print('Statistics=%.3f, p=%.3f' % (stat, p))\n",
    "\n",
    "    if p > alpha:\n",
    "        print(colored('Sample looks Gaussian (fail to reject H0)', 'green'))\n",
    "    else:\n",
    "        print(colored('Sample does not look Gaussian (reject H0)', 'red'))\n",
    "\n"
   ]
  },
  {
   "cell_type": "code",
   "execution_count": null,
   "id": "50e1be02",
   "metadata": {},
   "outputs": [],
   "source": [
    "interpret_normaltest(s)"
   ]
  },
  {
   "cell_type": "code",
   "execution_count": null,
   "id": "9fa13aa5",
   "metadata": {},
   "outputs": [],
   "source": [
    "interpret_normaltest(s2)"
   ]
  },
  {
   "cell_type": "code",
   "execution_count": null,
   "id": "5f71c0f5",
   "metadata": {},
   "outputs": [],
   "source": [
    "interpret_normaltest(zz)"
   ]
  },
  {
   "cell_type": "markdown",
   "id": "518972f6",
   "metadata": {},
   "source": [
    "## Normality Tests"
   ]
  },
  {
   "cell_type": "code",
   "execution_count": null,
   "id": "13d3fc65-00f5-467c-a2e1-c1e2bc597dd2",
   "metadata": {},
   "outputs": [],
   "source": [
    "df.head()"
   ]
  },
  {
   "cell_type": "code",
   "execution_count": null,
   "id": "5a70bce1-ca68-4f48-86aa-585c9f6a24eb",
   "metadata": {},
   "outputs": [],
   "source": [
    "groups = df.Group.unique()\n",
    "groups"
   ]
  },
  {
   "cell_type": "code",
   "execution_count": 27,
   "id": "9636fff7",
   "metadata": {},
   "outputs": [],
   "source": [
    "distributions_vg  = {g: df[df['Group'] == g]['EXP_DDCT_VG'].values for g in groups}\n",
    "distributions_vgr  = {g: df[df['Group'] == g]['EXP_DDCT_VGR'].values for g in groups}"
   ]
  },
  {
   "cell_type": "markdown",
   "id": "626dbabb-5bd2-4929-8868-a50036024109",
   "metadata": {},
   "source": [
    "## Normality Test for VG "
   ]
  },
  {
   "cell_type": "code",
   "execution_count": null,
   "id": "2cf39444-51d0-494b-9a3d-2023e25c30cb",
   "metadata": {},
   "outputs": [],
   "source": [
    "df"
   ]
  },
  {
   "cell_type": "code",
   "execution_count": 29,
   "id": "343b1cbe-a9d9-455e-8866-9423bf7205ef",
   "metadata": {},
   "outputs": [],
   "source": [
    "color_map = {\n",
    "    'P': 'black', \n",
    "    'A': 'Green', \n",
    "    'B': 'Blue', \n",
    "    'C': 'Red', \n",
    "    'D': 'Yellow'}"
   ]
  },
  {
   "cell_type": "code",
   "execution_count": null,
   "id": "1dd34f08-c68e-4175-846d-baee2bba54d2",
   "metadata": {},
   "outputs": [],
   "source": [
    "df_day_stats = df.groupby(['Group', 'Day']).describe().reset_index()\n",
    "df_day_stats.columns = ['_'.join(tuple(map(str, t))) for t in df_day_stats.columns.values]\n",
    "df_day_stats['EXP_DDCT_VG_error'] = df_day_stats['EXP_DDCT_VG_std'] / (df_day_stats['EXP_DDCT_VG_count']**(1/2))\n",
    "df_day_stats['EXP_DDCT_VGR_error'] = df_day_stats['EXP_DDCT_VGR_std'] / (df_day_stats['EXP_DDCT_VGR_count']**(1/2))\n",
    "df_day_stats['GroupDay'] = df_day_stats['Group_'].astype(str) + df_day_stats['Day_'].astype(str)\n",
    "df_day_stats['Color'] = df_day_stats['Group_'].map(lambda x: color_map[x])\n",
    "\n",
    "df_day_stats.to_excel('carcass_stats.xlsx')\n",
    "df_day_stats[['GroupDay',  'EXP_DDCT_VG_error', 'EXP_DDCT_VGR_error', 'EXP_DDCT_VGR_mean', 'EXP_DDCT_VG_mean', 'EXP_DDCT_VGR_std', 'EXP_DDCT_VGR_max', 'EXP_DDCT_VGR_50%']]\n"
   ]
  },
  {
   "cell_type": "code",
   "execution_count": null,
   "id": "bbb86c3f-0ef1-4723-82ab-b0effeaa34ce",
   "metadata": {},
   "outputs": [],
   "source": [
    "df_day_stats"
   ]
  },
  {
   "cell_type": "code",
   "execution_count": null,
   "id": "2d1d8cb5-d207-4193-bf3b-5afc9a6f0a5f",
   "metadata": {},
   "outputs": [],
   "source": [
    "import matplotlib.pyplot as plt \n",
    "width = 16\n",
    "height = 9\n",
    "plt.figure(figsize=(width, height))\n",
    "plt.title('VG Ovário')\n",
    "plt.xlabel('Grupos e Dias')\n",
    "plt.ylabel('2 ^ (-ddct)')\n",
    "target_col = 'EXP_DDCT_VG'\n",
    "for d in [0, 1, 4, 8]: \n",
    "    df_plot = df_day_stats[df_day_stats.Day_ == d]\n",
    "    plt.bar(df_plot['GroupDay'].values, df_plot[f'{target_col}_mean'].values, color=df_plot['Color'].values)\n",
    "    plt.errorbar(df_plot['GroupDay'].values, df_plot[f'{target_col}_mean'].values, df_plot[f'{target_col}_error'].values, fmt='.', \n",
    "                 color='Black', elinewidth=2,capthick=10,errorevery=1, alpha=0.5, ms=4, capsize = 2)\n",
    "    \n",
    "plt.savefig('figure.png', dpi=400, transparent=True)\n",
    "plt.show()"
   ]
  },
  {
   "cell_type": "code",
   "execution_count": null,
   "id": "79054d81-7d94-40a2-918a-9260327e4c0e",
   "metadata": {},
   "outputs": [],
   "source": [
    "import matplotlib.pyplot as plt \n",
    "width = 16\n",
    "height = 9\n",
    "plt.figure(figsize=(width, height))\n",
    "plt.title('VGR Ovário')\n",
    "plt.xlabel('Grupos e Dias')\n",
    "plt.ylabel('2 ^ (-ddct)')\n",
    "target_col = 'EXP_DDCT_VGR'\n",
    "for d in [0, 1, 4, 8]: \n",
    "    df_plot = df_day_stats[df_day_stats.Day_ == d]\n",
    "    plt.bar(df_plot['GroupDay'].values, df_plot[f'{target_col}_mean'].values, color=df_plot['Color'].values)\n",
    "    plt.errorbar(df_plot['GroupDay'].values, df_plot[f'{target_col}_mean'].values, df_plot[f'{target_col}_error'].values, fmt='.', \n",
    "                 color='Black', elinewidth=2,capthick=10,errorevery=1, alpha=0.5, ms=4, capsize = 2)\n",
    "    \n",
    "plt.savefig('figure.png', dpi=400, transparent=True)\n",
    "plt.show()"
   ]
  },
  {
   "cell_type": "code",
   "execution_count": null,
   "id": "207d13bd-e654-4fa4-aaa8-a8cac549c2b5",
   "metadata": {},
   "outputs": [],
   "source": [
    "import seaborn as sns\n",
    "sns.boxplot(data=df, x=\"Day\", y=\"EXP_DDCT_VG\", hue=\"Group\", palette=color_map)\n"
   ]
  },
  {
   "cell_type": "code",
   "execution_count": null,
   "id": "c25b87e8-1e1b-4295-a254-6b609dcf34b6",
   "metadata": {},
   "outputs": [],
   "source": [
    "import seaborn as sns\n",
    "sns.boxplot(data=df, x=\"Day\", y=\"EXP_DDCT_VGR\", hue=\"Group\", palette=color_map)\n"
   ]
  },
  {
   "cell_type": "code",
   "execution_count": null,
   "id": "a0adc397-89fb-484a-a381-d6ee304e07fe",
   "metadata": {},
   "outputs": [],
   "source": [
    "import seaborn as sns\n",
    "plt.figure(figsize=(width, height))\n",
    "plt.title('VG Carcass')\n",
    "plt.xlabel('Grupos e Dias')\n",
    "plt.ylabel('2 ^ (-ddct)')\n",
    "sns.boxplot(data=df, x=\"Day\", y=\"EXP_DDCT_VG\", hue=\"Group\", palette=color_map)\n",
    "plt.savefig('vg_carcaca.png')\n",
    "plt.savefig('vg_carcaca.pdf')"
   ]
  },
  {
   "cell_type": "code",
   "execution_count": null,
   "id": "94ef6265-dc00-463b-9e06-22f885861b74",
   "metadata": {},
   "outputs": [],
   "source": [
    "import seaborn as sns\n",
    "plt.figure(figsize=(width, height))\n",
    "plt.title('VGR Carcass')\n",
    "plt.xlabel('Grupos e Dias')\n",
    "plt.ylabel('2 ^ (-ddct)')\n",
    "sns.boxplot(data=df, x=\"Day\", y=\"EXP_DDCT_VGR\", hue=\"Group\", palette=color_map)\n",
    "plt.savefig('vgr_carcaca.pdf')"
   ]
  },
  {
   "cell_type": "code",
   "execution_count": 38,
   "id": "48b5a044-75e9-4e07-837d-2ea2335abe9c",
   "metadata": {},
   "outputs": [],
   "source": [
    "df.to_excel('carcass_exp_ddct.xlsx')"
   ]
  },
  {
   "cell_type": "code",
   "execution_count": null,
   "id": "a211fed5",
   "metadata": {},
   "outputs": [],
   "source": [
    "plt.rcParams.update({'figure.figsize':(7,5), 'figure.dpi':100})\n",
    "for k, v in distributions_vg.items():\n",
    "    print(f'Distributions {k}')\n",
    "    interpret_normaltest(v)\n",
    "#     plt.hist(v, bins=7)\n",
    "#     plt.gca().set(ylabel='Frequency')\n",
    "#     plt.title(k)\n",
    "#     plt.show()\n",
    "    print('\\n\\n')"
   ]
  },
  {
   "cell_type": "markdown",
   "id": "8389fbff-14fc-4b98-a57e-27b5f3a3bfcf",
   "metadata": {},
   "source": [
    "## Normality Test for VGR\n"
   ]
  },
  {
   "cell_type": "code",
   "execution_count": null,
   "id": "e59a97d5-aa37-46dd-97be-ee51e7cc1e94",
   "metadata": {},
   "outputs": [],
   "source": [
    "plt.rcParams.update({'figure.figsize':(7,5), 'figure.dpi':100})\n",
    "for k, v in distributions_vgr.items():\n",
    "    print(f'Distributions {k}')\n",
    "    interpret_normaltest(v)\n",
    "    plt.hist(v, bins=10)\n",
    "    plt.gca().set(ylabel='Frequency')\n",
    "    plt.title(k)\n",
    "    plt.show()\n",
    "    print('\\n\\n')"
   ]
  },
  {
   "cell_type": "markdown",
   "id": "16d4c9be",
   "metadata": {},
   "source": [
    "## Comparison Scenarios"
   ]
  },
  {
   "cell_type": "code",
   "execution_count": 41,
   "id": "74d84a4a",
   "metadata": {},
   "outputs": [],
   "source": [
    "scenarios_vgr_inter_group = {\n",
    "'A-B': (distributions_vgr['A'], distributions_vgr['B']), \n",
    "'A-C': (distributions_vgr['A'], distributions_vgr['C']), \n",
    "'A-D': (distributions_vgr['A'], distributions_vgr['D']), \n",
    "'B-C': (distributions_vgr['B'], distributions_vgr['C']), \n",
    "'B-D': (distributions_vgr['B'], distributions_vgr['D']), \n",
    "'C-D': (distributions_vgr['C'], distributions_vgr['D']), \n",
    "}"
   ]
  },
  {
   "cell_type": "code",
   "execution_count": 42,
   "id": "43882d31-df1f-4b2c-8c18-eed08d2d8f8b",
   "metadata": {},
   "outputs": [],
   "source": [
    "intra_group_days = [(1,4) ,\n",
    "(1,8),\n",
    "(4,8)]\n"
   ]
  },
  {
   "cell_type": "code",
   "execution_count": 43,
   "id": "48748575-3c4e-49f2-8b5c-e4598feebda0",
   "metadata": {},
   "outputs": [],
   "source": [
    "scenarios_vgr_intra_groups = { f'{g}-{d[0]}-{d[1]}': \n",
    "                             (df[(df['Group'] == g) & (df['Day'] == d[0])]['VGR'].values, \n",
    "                              df[(df['Group'] == g) & (df['Day'] == d[1])]['VGR'].values)\n",
    "                              for g in distributions_vgr.keys() for d in intra_group_days}"
   ]
  },
  {
   "cell_type": "code",
   "execution_count": 44,
   "id": "69b5430c-dc7f-4d04-8241-c2c883994d3b",
   "metadata": {},
   "outputs": [],
   "source": [
    "scenarios_vg_inter_group = {\n",
    "'A-B': (distributions_vg['A'], distributions_vg['B']), \n",
    "'A-C': (distributions_vg['A'], distributions_vg['C']), \n",
    "'A-D': (distributions_vg['A'], distributions_vg['D']), \n",
    "'B-C': (distributions_vg['B'], distributions_vg['C']), \n",
    "'B-D': (distributions_vg['B'], distributions_vg['D']), \n",
    "'C-D': (distributions_vg['C'], distributions_vg['D']), \n",
    "}"
   ]
  },
  {
   "cell_type": "code",
   "execution_count": 45,
   "id": "51736426-9dab-43b4-be6d-b4d9969988e6",
   "metadata": {},
   "outputs": [],
   "source": [
    "scenarios_vg_intra_groups = { f'{g}-{d[0]}-{d[1]}': \n",
    "                             (df[(df['Group'] == g) & (df['Day'] == d[0])]['VG'].values, \n",
    "                              df[(df['Group'] == g) & (df['Day'] == d[1])]['VG'].values)\n",
    "                              for g in distributions_vgr.keys() for d in intra_group_days}"
   ]
  },
  {
   "cell_type": "code",
   "execution_count": null,
   "id": "dcdecc99-159d-40ce-8873-50a190e5c24c",
   "metadata": {},
   "outputs": [],
   "source": [
    "scenarios_vg_inter_group['A-B']"
   ]
  },
  {
   "cell_type": "code",
   "execution_count": null,
   "id": "89bcddf8-c1d3-468c-8db3-2945fc91878f",
   "metadata": {},
   "outputs": [],
   "source": [
    "scenarios_vg_intra_groups['A-1-4']"
   ]
  },
  {
   "cell_type": "code",
   "execution_count": null,
   "id": "66fcea63-61cb-406e-a3aa-c316282e670f",
   "metadata": {},
   "outputs": [],
   "source": [
    "scenarios_vgr_inter_group['A-B']"
   ]
  },
  {
   "cell_type": "code",
   "execution_count": null,
   "id": "3163ac9c-efe8-4f1e-920a-10557f046072",
   "metadata": {},
   "outputs": [],
   "source": [
    "scenarios_vgr_intra_groups['A-1-4']"
   ]
  },
  {
   "cell_type": "markdown",
   "id": "04166015",
   "metadata": {},
   "source": [
    "### Statistical Tests VG\n"
   ]
  },
  {
   "cell_type": "markdown",
   "id": "17070117-67d5-4fb4-b2a4-716e3dbc782a",
   "metadata": {},
   "source": [
    "#### Inter Group VG"
   ]
  },
  {
   "cell_type": "code",
   "execution_count": null,
   "id": "fc283eba",
   "metadata": {},
   "outputs": [],
   "source": [
    "for k, v in scenarios_vg_inter_group.items():\n",
    "    a, b = v\n",
    "    print(f'Scenario {k}')\n",
    "    interpret_kwtest(a,b)\n",
    "    print('\\n\\n')"
   ]
  },
  {
   "cell_type": "markdown",
   "id": "e76134b4-ce86-4e91-97d6-fede54148a0b",
   "metadata": {},
   "source": [
    "#### Intra Group VG"
   ]
  },
  {
   "cell_type": "code",
   "execution_count": null,
   "id": "d1ba471f-0cd8-4362-9d73-9b2b001ff05f",
   "metadata": {},
   "outputs": [],
   "source": [
    "for k, v in scenarios_vg_intra_groups.items():\n",
    "    a, b = v\n",
    "    print(f'Scenario {k}')\n",
    "    interpret_kwtest(a,b)\n",
    "    print('\\n\\n')"
   ]
  },
  {
   "cell_type": "markdown",
   "id": "863a3ca8-05b8-4588-9560-c83392ecb071",
   "metadata": {},
   "source": [
    "### Statistical Tests VGR"
   ]
  },
  {
   "cell_type": "markdown",
   "id": "99028a3d-66ed-4910-b8f6-fbf864e7aa6d",
   "metadata": {},
   "source": [
    "#### Inter Group VGR"
   ]
  },
  {
   "cell_type": "code",
   "execution_count": null,
   "id": "56a964b2-081d-4fc4-b7ae-38bb4bc0d7fd",
   "metadata": {},
   "outputs": [],
   "source": [
    "for k, v in scenarios_vgr_inter_group.items():\n",
    "    a, b = v\n",
    "    print(f'Scenario {k}')\n",
    "    interpret_kwtest(a,b)\n",
    "    print('\\n\\n')"
   ]
  },
  {
   "cell_type": "markdown",
   "id": "441ed413-6b10-42d9-b7f2-12f4657639c2",
   "metadata": {},
   "source": [
    "#### Intra Group VGR"
   ]
  },
  {
   "cell_type": "code",
   "execution_count": null,
   "id": "467167b3-8b95-4566-8b49-c13230fdabfa",
   "metadata": {},
   "outputs": [],
   "source": [
    "for k, v in scenarios_vgr_intra_groups.items():\n",
    "    a, b = v\n",
    "    print(f'Scenario {k}')\n",
    "    interpret_kwtest(a,b)\n",
    "    print('\\n\\n')"
   ]
  },
  {
   "cell_type": "code",
   "execution_count": null,
   "id": "4409a58a",
   "metadata": {},
   "outputs": [],
   "source": []
  }
 ],
 "metadata": {
  "kernelspec": {
   "display_name": "Python 3 (ipykernel)",
   "language": "python",
   "name": "python3"
  },
  "language_info": {
   "codemirror_mode": {
    "name": "ipython",
    "version": 3
   },
   "file_extension": ".py",
   "mimetype": "text/x-python",
   "name": "python",
   "nbconvert_exporter": "python",
   "pygments_lexer": "ipython3",
   "version": "3.10.10"
  }
 },
 "nbformat": 4,
 "nbformat_minor": 5
}
